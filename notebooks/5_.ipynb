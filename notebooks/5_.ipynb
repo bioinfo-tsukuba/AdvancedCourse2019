{
 "cells": [
  {
   "cell_type": "markdown",
   "metadata": {},
   "source": [
    "# TCGAのRNA-seqデータのグラフをプロットする"
   ]
  },
  {
   "cell_type": "markdown",
   "metadata": {},
   "source": [
    "## データの取得\n",
    "\n",
    "TCGAの腎明細胞癌（Kidney Clear Cell Carcinoma（KIRC））の遺伝子発現データを扱うため、まずデータをダウンロードします。\n",
    "\n",
    "### RNA-seqデータの取得\n",
    "RNA-seqデータは https://xenabrowser.net/datapages/ からダウンロードします。\n",
    "\n",
    "1. 上のURLにアクセスし、`GDC TCGA Kidney Clear Cell Carcinoma (KIRC) (15 datasets)`をクリックします。\n",
    "2. 'gene expression RNAseq'の 'HTSeq - FPKM-UQ' をクリックすると、ダウンロードが始まります。\n",
    "3. `.gz`という圧縮ファイルですが、解凍せずにそのままにします。\n",
    "\n",
    "### サンプルのメタデータの取得\n",
    "サンプルのメタデータは、Genomic Data Commons (GDC) Data Portal https://portal.gdc.cancer.gov/ からダウンロードします。\n",
    "\n",
    "1. 上のURLにアクセスし、\n"
   ]
  },
  {
   "cell_type": "markdown",
   "metadata": {},
   "source": [
    "## データ読み込み\n",
    "まずはpandasでRNA-seqデータを読み込みましょう。"
   ]
  },
  {
   "cell_type": "code",
   "execution_count": 244,
   "metadata": {},
   "outputs": [],
   "source": [
    "import pandas as pd"
   ]
  },
  {
   "cell_type": "code",
   "execution_count": 245,
   "metadata": {},
   "outputs": [],
   "source": [
    "# 注意: ここのファイル名は適宜変える\n",
    "df = pd.read_csv('Downloads/TCGA-KIRC.htseq_fpkm-uq.tsv.gz', sep='\\t')"
   ]
  },
  {
   "cell_type": "markdown",
   "metadata": {},
   "source": [
    "ここで、列名を確認します。\n",
    "\n",
    "`Ensembl_ID` は Ensemblの遺伝子IDです。\n",
    "\n",
    "その他の`TCGA-`で始まる列名はサンプルIDを表しています。"
   ]
  },
  {
   "cell_type": "code",
   "execution_count": 246,
   "metadata": {},
   "outputs": [
    {
     "data": {
      "text/plain": [
       "Index(['Ensembl_ID', 'TCGA-B2-4101-01A', 'TCGA-BP-4342-01A',\n",
       "       'TCGA-B0-4691-01A', 'TCGA-BP-4167-01A', 'TCGA-B8-4620-01A',\n",
       "       'TCGA-BP-4769-01A', 'TCGA-CJ-4907-01A', 'TCGA-BP-5168-01A',\n",
       "       'TCGA-BP-4977-01A',\n",
       "       ...\n",
       "       'TCGA-B0-5402-11A', 'TCGA-A3-3328-01A', 'TCGA-AK-3434-01A',\n",
       "       'TCGA-B0-5706-11A', 'TCGA-CJ-6033-01A', 'TCGA-BP-4782-01A',\n",
       "       'TCGA-CJ-4895-01A', 'TCGA-CJ-4640-01A', 'TCGA-BP-4343-01A',\n",
       "       'TCGA-B0-4811-01A'],\n",
       "      dtype='object', length=608)"
      ]
     },
     "execution_count": 246,
     "metadata": {},
     "output_type": "execute_result"
    }
   ],
   "source": [
    "df.columns"
   ]
  },
  {
   "cell_type": "markdown",
   "metadata": {},
   "source": [
    "`head()`で表の値の概要をざっくり確認しましょう。"
   ]
  },
  {
   "cell_type": "code",
   "execution_count": 247,
   "metadata": {},
   "outputs": [
    {
     "data": {
      "text/html": [
       "<div>\n",
       "<style scoped>\n",
       "    .dataframe tbody tr th:only-of-type {\n",
       "        vertical-align: middle;\n",
       "    }\n",
       "\n",
       "    .dataframe tbody tr th {\n",
       "        vertical-align: top;\n",
       "    }\n",
       "\n",
       "    .dataframe thead th {\n",
       "        text-align: right;\n",
       "    }\n",
       "</style>\n",
       "<table border=\"1\" class=\"dataframe\">\n",
       "  <thead>\n",
       "    <tr style=\"text-align: right;\">\n",
       "      <th></th>\n",
       "      <th>Ensembl_ID</th>\n",
       "      <th>TCGA-B2-4101-01A</th>\n",
       "      <th>TCGA-BP-4342-01A</th>\n",
       "      <th>TCGA-B0-4691-01A</th>\n",
       "      <th>TCGA-BP-4167-01A</th>\n",
       "      <th>TCGA-B8-4620-01A</th>\n",
       "      <th>TCGA-BP-4769-01A</th>\n",
       "      <th>TCGA-CJ-4907-01A</th>\n",
       "      <th>TCGA-BP-5168-01A</th>\n",
       "      <th>TCGA-BP-4977-01A</th>\n",
       "      <th>...</th>\n",
       "      <th>TCGA-B0-5402-11A</th>\n",
       "      <th>TCGA-A3-3328-01A</th>\n",
       "      <th>TCGA-AK-3434-01A</th>\n",
       "      <th>TCGA-B0-5706-11A</th>\n",
       "      <th>TCGA-CJ-6033-01A</th>\n",
       "      <th>TCGA-BP-4782-01A</th>\n",
       "      <th>TCGA-CJ-4895-01A</th>\n",
       "      <th>TCGA-CJ-4640-01A</th>\n",
       "      <th>TCGA-BP-4343-01A</th>\n",
       "      <th>TCGA-B0-4811-01A</th>\n",
       "    </tr>\n",
       "  </thead>\n",
       "  <tbody>\n",
       "    <tr>\n",
       "      <th>0</th>\n",
       "      <td>ENSG00000242268.2</td>\n",
       "      <td>13.245332</td>\n",
       "      <td>10.902992</td>\n",
       "      <td>11.702961</td>\n",
       "      <td>9.738462</td>\n",
       "      <td>11.799765</td>\n",
       "      <td>0.000000</td>\n",
       "      <td>11.396926</td>\n",
       "      <td>0.000000</td>\n",
       "      <td>12.959970</td>\n",
       "      <td>...</td>\n",
       "      <td>8.854441</td>\n",
       "      <td>8.878121</td>\n",
       "      <td>11.305578</td>\n",
       "      <td>10.318447</td>\n",
       "      <td>0.000000</td>\n",
       "      <td>10.665708</td>\n",
       "      <td>0.000000</td>\n",
       "      <td>10.590826</td>\n",
       "      <td>0.000000</td>\n",
       "      <td>16.105852</td>\n",
       "    </tr>\n",
       "    <tr>\n",
       "      <th>1</th>\n",
       "      <td>ENSG00000270112.3</td>\n",
       "      <td>7.317387</td>\n",
       "      <td>8.379099</td>\n",
       "      <td>10.924253</td>\n",
       "      <td>6.899500</td>\n",
       "      <td>8.952867</td>\n",
       "      <td>9.451341</td>\n",
       "      <td>8.288570</td>\n",
       "      <td>7.553991</td>\n",
       "      <td>7.455659</td>\n",
       "      <td>...</td>\n",
       "      <td>9.588751</td>\n",
       "      <td>10.114409</td>\n",
       "      <td>9.457654</td>\n",
       "      <td>10.716694</td>\n",
       "      <td>6.230655</td>\n",
       "      <td>7.821802</td>\n",
       "      <td>7.419813</td>\n",
       "      <td>6.175618</td>\n",
       "      <td>0.000000</td>\n",
       "      <td>6.571237</td>\n",
       "    </tr>\n",
       "    <tr>\n",
       "      <th>2</th>\n",
       "      <td>ENSG00000167578.15</td>\n",
       "      <td>15.878832</td>\n",
       "      <td>15.803923</td>\n",
       "      <td>16.846045</td>\n",
       "      <td>17.095299</td>\n",
       "      <td>15.118272</td>\n",
       "      <td>15.682723</td>\n",
       "      <td>15.623339</td>\n",
       "      <td>15.744700</td>\n",
       "      <td>15.364811</td>\n",
       "      <td>...</td>\n",
       "      <td>15.879985</td>\n",
       "      <td>16.391126</td>\n",
       "      <td>16.214643</td>\n",
       "      <td>15.885054</td>\n",
       "      <td>16.635290</td>\n",
       "      <td>15.574465</td>\n",
       "      <td>16.063382</td>\n",
       "      <td>16.390164</td>\n",
       "      <td>14.972594</td>\n",
       "      <td>17.163015</td>\n",
       "    </tr>\n",
       "    <tr>\n",
       "      <th>3</th>\n",
       "      <td>ENSG00000273842.1</td>\n",
       "      <td>0.000000</td>\n",
       "      <td>0.000000</td>\n",
       "      <td>0.000000</td>\n",
       "      <td>0.000000</td>\n",
       "      <td>0.000000</td>\n",
       "      <td>0.000000</td>\n",
       "      <td>0.000000</td>\n",
       "      <td>0.000000</td>\n",
       "      <td>0.000000</td>\n",
       "      <td>...</td>\n",
       "      <td>0.000000</td>\n",
       "      <td>0.000000</td>\n",
       "      <td>0.000000</td>\n",
       "      <td>0.000000</td>\n",
       "      <td>0.000000</td>\n",
       "      <td>0.000000</td>\n",
       "      <td>0.000000</td>\n",
       "      <td>0.000000</td>\n",
       "      <td>0.000000</td>\n",
       "      <td>13.854797</td>\n",
       "    </tr>\n",
       "    <tr>\n",
       "      <th>4</th>\n",
       "      <td>ENSG00000078237.5</td>\n",
       "      <td>16.157763</td>\n",
       "      <td>15.676362</td>\n",
       "      <td>16.075166</td>\n",
       "      <td>16.556590</td>\n",
       "      <td>15.915494</td>\n",
       "      <td>16.203597</td>\n",
       "      <td>16.406103</td>\n",
       "      <td>16.311253</td>\n",
       "      <td>15.573086</td>\n",
       "      <td>...</td>\n",
       "      <td>16.170641</td>\n",
       "      <td>16.347221</td>\n",
       "      <td>15.572499</td>\n",
       "      <td>16.707020</td>\n",
       "      <td>16.301567</td>\n",
       "      <td>16.507451</td>\n",
       "      <td>16.268731</td>\n",
       "      <td>16.701121</td>\n",
       "      <td>16.791338</td>\n",
       "      <td>16.429061</td>\n",
       "    </tr>\n",
       "  </tbody>\n",
       "</table>\n",
       "<p>5 rows × 608 columns</p>\n",
       "</div>"
      ],
      "text/plain": [
       "           Ensembl_ID  TCGA-B2-4101-01A  TCGA-BP-4342-01A  TCGA-B0-4691-01A  \\\n",
       "0   ENSG00000242268.2         13.245332         10.902992         11.702961   \n",
       "1   ENSG00000270112.3          7.317387          8.379099         10.924253   \n",
       "2  ENSG00000167578.15         15.878832         15.803923         16.846045   \n",
       "3   ENSG00000273842.1          0.000000          0.000000          0.000000   \n",
       "4   ENSG00000078237.5         16.157763         15.676362         16.075166   \n",
       "\n",
       "   TCGA-BP-4167-01A  TCGA-B8-4620-01A  TCGA-BP-4769-01A  TCGA-CJ-4907-01A  \\\n",
       "0          9.738462         11.799765          0.000000         11.396926   \n",
       "1          6.899500          8.952867          9.451341          8.288570   \n",
       "2         17.095299         15.118272         15.682723         15.623339   \n",
       "3          0.000000          0.000000          0.000000          0.000000   \n",
       "4         16.556590         15.915494         16.203597         16.406103   \n",
       "\n",
       "   TCGA-BP-5168-01A  TCGA-BP-4977-01A  ...  TCGA-B0-5402-11A  \\\n",
       "0          0.000000         12.959970  ...          8.854441   \n",
       "1          7.553991          7.455659  ...          9.588751   \n",
       "2         15.744700         15.364811  ...         15.879985   \n",
       "3          0.000000          0.000000  ...          0.000000   \n",
       "4         16.311253         15.573086  ...         16.170641   \n",
       "\n",
       "   TCGA-A3-3328-01A  TCGA-AK-3434-01A  TCGA-B0-5706-11A  TCGA-CJ-6033-01A  \\\n",
       "0          8.878121         11.305578         10.318447          0.000000   \n",
       "1         10.114409          9.457654         10.716694          6.230655   \n",
       "2         16.391126         16.214643         15.885054         16.635290   \n",
       "3          0.000000          0.000000          0.000000          0.000000   \n",
       "4         16.347221         15.572499         16.707020         16.301567   \n",
       "\n",
       "   TCGA-BP-4782-01A  TCGA-CJ-4895-01A  TCGA-CJ-4640-01A  TCGA-BP-4343-01A  \\\n",
       "0         10.665708          0.000000         10.590826          0.000000   \n",
       "1          7.821802          7.419813          6.175618          0.000000   \n",
       "2         15.574465         16.063382         16.390164         14.972594   \n",
       "3          0.000000          0.000000          0.000000          0.000000   \n",
       "4         16.507451         16.268731         16.701121         16.791338   \n",
       "\n",
       "   TCGA-B0-4811-01A  \n",
       "0         16.105852  \n",
       "1          6.571237  \n",
       "2         17.163015  \n",
       "3         13.854797  \n",
       "4         16.429061  \n",
       "\n",
       "[5 rows x 608 columns]"
      ]
     },
     "execution_count": 247,
     "metadata": {},
     "output_type": "execute_result"
    }
   ],
   "source": [
    "df.head()"
   ]
  },
  {
   "cell_type": "markdown",
   "metadata": {},
   "source": [
    "## データ前処理"
   ]
  },
  {
   "cell_type": "markdown",
   "metadata": {},
   "source": [
    "Ensembl_IDをIndexにしましょう"
   ]
  },
  {
   "cell_type": "code",
   "execution_count": 248,
   "metadata": {},
   "outputs": [],
   "source": [
    "df.set_index('Ensembl_ID', inplace=True)"
   ]
  },
  {
   "cell_type": "markdown",
   "metadata": {},
   "source": [
    "「行が遺伝子、列がサンプル」の表データを「列がサンプル、行が遺伝子」の表データに変更したい。\n",
    "そのために、`transpose()`を使って表を転置（transpose）します。"
   ]
  },
  {
   "cell_type": "code",
   "execution_count": 249,
   "metadata": {},
   "outputs": [],
   "source": [
    "df_t = df.transpose()"
   ]
  },
  {
   "cell_type": "markdown",
   "metadata": {},
   "source": [
    "うまくできているか確認します。"
   ]
  },
  {
   "cell_type": "code",
   "execution_count": 250,
   "metadata": {},
   "outputs": [
    {
     "data": {
      "text/html": [
       "<div>\n",
       "<style scoped>\n",
       "    .dataframe tbody tr th:only-of-type {\n",
       "        vertical-align: middle;\n",
       "    }\n",
       "\n",
       "    .dataframe tbody tr th {\n",
       "        vertical-align: top;\n",
       "    }\n",
       "\n",
       "    .dataframe thead th {\n",
       "        text-align: right;\n",
       "    }\n",
       "</style>\n",
       "<table border=\"1\" class=\"dataframe\">\n",
       "  <thead>\n",
       "    <tr style=\"text-align: right;\">\n",
       "      <th>Ensembl_ID</th>\n",
       "      <th>ENSG00000242268.2</th>\n",
       "      <th>ENSG00000270112.3</th>\n",
       "      <th>ENSG00000167578.15</th>\n",
       "      <th>ENSG00000273842.1</th>\n",
       "      <th>ENSG00000078237.5</th>\n",
       "      <th>ENSG00000146083.10</th>\n",
       "      <th>ENSG00000225275.4</th>\n",
       "      <th>ENSG00000158486.12</th>\n",
       "      <th>ENSG00000198242.12</th>\n",
       "      <th>ENSG00000259883.1</th>\n",
       "      <th>...</th>\n",
       "      <th>ENSG00000238244.3</th>\n",
       "      <th>ENSG00000186115.11</th>\n",
       "      <th>ENSG00000216352.1</th>\n",
       "      <th>ENSG00000267117.1</th>\n",
       "      <th>ENSG00000273233.1</th>\n",
       "      <th>ENSG00000105063.17</th>\n",
       "      <th>ENSG00000231119.2</th>\n",
       "      <th>ENSG00000280861.1</th>\n",
       "      <th>ENSG00000123685.7</th>\n",
       "      <th>ENSG00000181518.3</th>\n",
       "    </tr>\n",
       "  </thead>\n",
       "  <tbody>\n",
       "    <tr>\n",
       "      <th>TCGA-B2-4101-01A</th>\n",
       "      <td>13.245332</td>\n",
       "      <td>7.317387</td>\n",
       "      <td>15.878832</td>\n",
       "      <td>0.0</td>\n",
       "      <td>16.157763</td>\n",
       "      <td>18.516787</td>\n",
       "      <td>0.0</td>\n",
       "      <td>9.806579</td>\n",
       "      <td>21.768571</td>\n",
       "      <td>13.739354</td>\n",
       "      <td>...</td>\n",
       "      <td>0.0</td>\n",
       "      <td>13.056492</td>\n",
       "      <td>0.000000</td>\n",
       "      <td>11.430246</td>\n",
       "      <td>11.480154</td>\n",
       "      <td>18.060240</td>\n",
       "      <td>12.563545</td>\n",
       "      <td>0.0</td>\n",
       "      <td>14.363342</td>\n",
       "      <td>0.000000</td>\n",
       "    </tr>\n",
       "    <tr>\n",
       "      <th>TCGA-BP-4342-01A</th>\n",
       "      <td>10.902992</td>\n",
       "      <td>8.379099</td>\n",
       "      <td>15.803923</td>\n",
       "      <td>0.0</td>\n",
       "      <td>15.676362</td>\n",
       "      <td>17.900625</td>\n",
       "      <td>0.0</td>\n",
       "      <td>9.314713</td>\n",
       "      <td>21.607357</td>\n",
       "      <td>12.590915</td>\n",
       "      <td>...</td>\n",
       "      <td>0.0</td>\n",
       "      <td>14.122849</td>\n",
       "      <td>0.000000</td>\n",
       "      <td>13.911300</td>\n",
       "      <td>12.639430</td>\n",
       "      <td>18.367108</td>\n",
       "      <td>12.553177</td>\n",
       "      <td>0.0</td>\n",
       "      <td>15.112939</td>\n",
       "      <td>0.000000</td>\n",
       "    </tr>\n",
       "    <tr>\n",
       "      <th>TCGA-B0-4691-01A</th>\n",
       "      <td>11.702961</td>\n",
       "      <td>10.924253</td>\n",
       "      <td>16.846045</td>\n",
       "      <td>0.0</td>\n",
       "      <td>16.075166</td>\n",
       "      <td>18.466511</td>\n",
       "      <td>0.0</td>\n",
       "      <td>11.269440</td>\n",
       "      <td>22.259454</td>\n",
       "      <td>13.509740</td>\n",
       "      <td>...</td>\n",
       "      <td>0.0</td>\n",
       "      <td>15.722675</td>\n",
       "      <td>11.455115</td>\n",
       "      <td>11.653052</td>\n",
       "      <td>11.702961</td>\n",
       "      <td>18.438922</td>\n",
       "      <td>12.423879</td>\n",
       "      <td>0.0</td>\n",
       "      <td>15.934466</td>\n",
       "      <td>10.060295</td>\n",
       "    </tr>\n",
       "    <tr>\n",
       "      <th>TCGA-BP-4167-01A</th>\n",
       "      <td>9.738462</td>\n",
       "      <td>6.899500</td>\n",
       "      <td>17.095299</td>\n",
       "      <td>0.0</td>\n",
       "      <td>16.556590</td>\n",
       "      <td>17.657000</td>\n",
       "      <td>0.0</td>\n",
       "      <td>7.348504</td>\n",
       "      <td>22.111518</td>\n",
       "      <td>12.939972</td>\n",
       "      <td>...</td>\n",
       "      <td>0.0</td>\n",
       "      <td>12.291707</td>\n",
       "      <td>0.000000</td>\n",
       "      <td>13.008950</td>\n",
       "      <td>0.000000</td>\n",
       "      <td>18.339305</td>\n",
       "      <td>12.088241</td>\n",
       "      <td>0.0</td>\n",
       "      <td>16.241584</td>\n",
       "      <td>0.000000</td>\n",
       "    </tr>\n",
       "    <tr>\n",
       "      <th>TCGA-B8-4620-01A</th>\n",
       "      <td>11.799765</td>\n",
       "      <td>8.952867</td>\n",
       "      <td>15.118272</td>\n",
       "      <td>0.0</td>\n",
       "      <td>15.915494</td>\n",
       "      <td>17.612348</td>\n",
       "      <td>0.0</td>\n",
       "      <td>7.992850</td>\n",
       "      <td>22.353481</td>\n",
       "      <td>11.417941</td>\n",
       "      <td>...</td>\n",
       "      <td>0.0</td>\n",
       "      <td>9.392681</td>\n",
       "      <td>0.000000</td>\n",
       "      <td>12.223668</td>\n",
       "      <td>9.952820</td>\n",
       "      <td>17.441902</td>\n",
       "      <td>13.593133</td>\n",
       "      <td>0.0</td>\n",
       "      <td>14.917071</td>\n",
       "      <td>0.000000</td>\n",
       "    </tr>\n",
       "  </tbody>\n",
       "</table>\n",
       "<p>5 rows × 60483 columns</p>\n",
       "</div>"
      ],
      "text/plain": [
       "Ensembl_ID        ENSG00000242268.2  ENSG00000270112.3  ENSG00000167578.15  \\\n",
       "TCGA-B2-4101-01A          13.245332           7.317387           15.878832   \n",
       "TCGA-BP-4342-01A          10.902992           8.379099           15.803923   \n",
       "TCGA-B0-4691-01A          11.702961          10.924253           16.846045   \n",
       "TCGA-BP-4167-01A           9.738462           6.899500           17.095299   \n",
       "TCGA-B8-4620-01A          11.799765           8.952867           15.118272   \n",
       "\n",
       "Ensembl_ID        ENSG00000273842.1  ENSG00000078237.5  ENSG00000146083.10  \\\n",
       "TCGA-B2-4101-01A                0.0          16.157763           18.516787   \n",
       "TCGA-BP-4342-01A                0.0          15.676362           17.900625   \n",
       "TCGA-B0-4691-01A                0.0          16.075166           18.466511   \n",
       "TCGA-BP-4167-01A                0.0          16.556590           17.657000   \n",
       "TCGA-B8-4620-01A                0.0          15.915494           17.612348   \n",
       "\n",
       "Ensembl_ID        ENSG00000225275.4  ENSG00000158486.12  ENSG00000198242.12  \\\n",
       "TCGA-B2-4101-01A                0.0            9.806579           21.768571   \n",
       "TCGA-BP-4342-01A                0.0            9.314713           21.607357   \n",
       "TCGA-B0-4691-01A                0.0           11.269440           22.259454   \n",
       "TCGA-BP-4167-01A                0.0            7.348504           22.111518   \n",
       "TCGA-B8-4620-01A                0.0            7.992850           22.353481   \n",
       "\n",
       "Ensembl_ID        ENSG00000259883.1  ...  ENSG00000238244.3  \\\n",
       "TCGA-B2-4101-01A          13.739354  ...                0.0   \n",
       "TCGA-BP-4342-01A          12.590915  ...                0.0   \n",
       "TCGA-B0-4691-01A          13.509740  ...                0.0   \n",
       "TCGA-BP-4167-01A          12.939972  ...                0.0   \n",
       "TCGA-B8-4620-01A          11.417941  ...                0.0   \n",
       "\n",
       "Ensembl_ID        ENSG00000186115.11  ENSG00000216352.1  ENSG00000267117.1  \\\n",
       "TCGA-B2-4101-01A           13.056492           0.000000          11.430246   \n",
       "TCGA-BP-4342-01A           14.122849           0.000000          13.911300   \n",
       "TCGA-B0-4691-01A           15.722675          11.455115          11.653052   \n",
       "TCGA-BP-4167-01A           12.291707           0.000000          13.008950   \n",
       "TCGA-B8-4620-01A            9.392681           0.000000          12.223668   \n",
       "\n",
       "Ensembl_ID        ENSG00000273233.1  ENSG00000105063.17  ENSG00000231119.2  \\\n",
       "TCGA-B2-4101-01A          11.480154           18.060240          12.563545   \n",
       "TCGA-BP-4342-01A          12.639430           18.367108          12.553177   \n",
       "TCGA-B0-4691-01A          11.702961           18.438922          12.423879   \n",
       "TCGA-BP-4167-01A           0.000000           18.339305          12.088241   \n",
       "TCGA-B8-4620-01A           9.952820           17.441902          13.593133   \n",
       "\n",
       "Ensembl_ID        ENSG00000280861.1  ENSG00000123685.7  ENSG00000181518.3  \n",
       "TCGA-B2-4101-01A                0.0          14.363342           0.000000  \n",
       "TCGA-BP-4342-01A                0.0          15.112939           0.000000  \n",
       "TCGA-B0-4691-01A                0.0          15.934466          10.060295  \n",
       "TCGA-BP-4167-01A                0.0          16.241584           0.000000  \n",
       "TCGA-B8-4620-01A                0.0          14.917071           0.000000  \n",
       "\n",
       "[5 rows x 60483 columns]"
      ]
     },
     "execution_count": 250,
     "metadata": {},
     "output_type": "execute_result"
    }
   ],
   "source": [
    "df_t.head()"
   ]
  },
  {
   "cell_type": "code",
   "execution_count": 251,
   "metadata": {},
   "outputs": [],
   "source": [
    "df_t.rename(columns={'Ensembl_ID': 'Sample_ID'}, inplace=True)"
   ]
  },
  {
   "cell_type": "markdown",
   "metadata": {},
   "source": [
    "列名に当たる遺伝子IDを加工します。\n",
    "\n",
    "遺伝子IDの末尾には `.整数` がついています。これは遺伝子IDのバージョンに当たります。\n",
    "このバージョンに当たる部分はしばしばデータの統合や抽出のじゃまになるので、ここでは除きます。\n",
    "\n",
    "以下では、`re`ライブラリで正規表現を用いた置換を行う関数である`sub()`を使用します。"
   ]
  },
  {
   "cell_type": "code",
   "execution_count": 252,
   "metadata": {},
   "outputs": [],
   "source": [
    "import re"
   ]
  },
  {
   "cell_type": "markdown",
   "metadata": {},
   "source": [
    "`sub()`では以下のように、３番目の引数の文字列から、１番目の引数の正規表現でマッチした文字列を、２番めの引数で置換します。"
   ]
  },
  {
   "cell_type": "code",
   "execution_count": 253,
   "metadata": {},
   "outputs": [
    {
     "name": "stdout",
     "output_type": "stream",
     "text": [
      "ENSG00000242268.2\n",
      "ENSG00000242268\n"
     ]
    }
   ],
   "source": [
    "x = 'ENSG00000242268.2'\n",
    "print(x)\n",
    "print(re.sub('\\\\.[^-]+$', '', x))"
   ]
  },
  {
   "cell_type": "markdown",
   "metadata": {},
   "source": [
    "上のように置換した列名に入れ替えます。"
   ]
  },
  {
   "cell_type": "code",
   "execution_count": 254,
   "metadata": {},
   "outputs": [],
   "source": [
    "df_t.columns = [re.sub('\\\\.[^-]+$', '',x) for x in df_t.columns]"
   ]
  },
  {
   "cell_type": "raw",
   "metadata": {},
   "source": [
    "列名が変わったか確認します。"
   ]
  },
  {
   "cell_type": "code",
   "execution_count": 255,
   "metadata": {},
   "outputs": [
    {
     "data": {
      "text/html": [
       "<div>\n",
       "<style scoped>\n",
       "    .dataframe tbody tr th:only-of-type {\n",
       "        vertical-align: middle;\n",
       "    }\n",
       "\n",
       "    .dataframe tbody tr th {\n",
       "        vertical-align: top;\n",
       "    }\n",
       "\n",
       "    .dataframe thead th {\n",
       "        text-align: right;\n",
       "    }\n",
       "</style>\n",
       "<table border=\"1\" class=\"dataframe\">\n",
       "  <thead>\n",
       "    <tr style=\"text-align: right;\">\n",
       "      <th></th>\n",
       "      <th>ENSG00000242268</th>\n",
       "      <th>ENSG00000270112</th>\n",
       "      <th>ENSG00000167578</th>\n",
       "      <th>ENSG00000273842</th>\n",
       "      <th>ENSG00000078237</th>\n",
       "      <th>ENSG00000146083</th>\n",
       "      <th>ENSG00000225275</th>\n",
       "      <th>ENSG00000158486</th>\n",
       "      <th>ENSG00000198242</th>\n",
       "      <th>ENSG00000259883</th>\n",
       "      <th>...</th>\n",
       "      <th>ENSG00000238244</th>\n",
       "      <th>ENSG00000186115</th>\n",
       "      <th>ENSG00000216352</th>\n",
       "      <th>ENSG00000267117</th>\n",
       "      <th>ENSG00000273233</th>\n",
       "      <th>ENSG00000105063</th>\n",
       "      <th>ENSG00000231119</th>\n",
       "      <th>ENSG00000280861</th>\n",
       "      <th>ENSG00000123685</th>\n",
       "      <th>ENSG00000181518</th>\n",
       "    </tr>\n",
       "  </thead>\n",
       "  <tbody>\n",
       "    <tr>\n",
       "      <th>TCGA-B2-4101-01A</th>\n",
       "      <td>13.245332</td>\n",
       "      <td>7.317387</td>\n",
       "      <td>15.878832</td>\n",
       "      <td>0.0</td>\n",
       "      <td>16.157763</td>\n",
       "      <td>18.516787</td>\n",
       "      <td>0.0</td>\n",
       "      <td>9.806579</td>\n",
       "      <td>21.768571</td>\n",
       "      <td>13.739354</td>\n",
       "      <td>...</td>\n",
       "      <td>0.0</td>\n",
       "      <td>13.056492</td>\n",
       "      <td>0.000000</td>\n",
       "      <td>11.430246</td>\n",
       "      <td>11.480154</td>\n",
       "      <td>18.060240</td>\n",
       "      <td>12.563545</td>\n",
       "      <td>0.0</td>\n",
       "      <td>14.363342</td>\n",
       "      <td>0.000000</td>\n",
       "    </tr>\n",
       "    <tr>\n",
       "      <th>TCGA-BP-4342-01A</th>\n",
       "      <td>10.902992</td>\n",
       "      <td>8.379099</td>\n",
       "      <td>15.803923</td>\n",
       "      <td>0.0</td>\n",
       "      <td>15.676362</td>\n",
       "      <td>17.900625</td>\n",
       "      <td>0.0</td>\n",
       "      <td>9.314713</td>\n",
       "      <td>21.607357</td>\n",
       "      <td>12.590915</td>\n",
       "      <td>...</td>\n",
       "      <td>0.0</td>\n",
       "      <td>14.122849</td>\n",
       "      <td>0.000000</td>\n",
       "      <td>13.911300</td>\n",
       "      <td>12.639430</td>\n",
       "      <td>18.367108</td>\n",
       "      <td>12.553177</td>\n",
       "      <td>0.0</td>\n",
       "      <td>15.112939</td>\n",
       "      <td>0.000000</td>\n",
       "    </tr>\n",
       "    <tr>\n",
       "      <th>TCGA-B0-4691-01A</th>\n",
       "      <td>11.702961</td>\n",
       "      <td>10.924253</td>\n",
       "      <td>16.846045</td>\n",
       "      <td>0.0</td>\n",
       "      <td>16.075166</td>\n",
       "      <td>18.466511</td>\n",
       "      <td>0.0</td>\n",
       "      <td>11.269440</td>\n",
       "      <td>22.259454</td>\n",
       "      <td>13.509740</td>\n",
       "      <td>...</td>\n",
       "      <td>0.0</td>\n",
       "      <td>15.722675</td>\n",
       "      <td>11.455115</td>\n",
       "      <td>11.653052</td>\n",
       "      <td>11.702961</td>\n",
       "      <td>18.438922</td>\n",
       "      <td>12.423879</td>\n",
       "      <td>0.0</td>\n",
       "      <td>15.934466</td>\n",
       "      <td>10.060295</td>\n",
       "    </tr>\n",
       "    <tr>\n",
       "      <th>TCGA-BP-4167-01A</th>\n",
       "      <td>9.738462</td>\n",
       "      <td>6.899500</td>\n",
       "      <td>17.095299</td>\n",
       "      <td>0.0</td>\n",
       "      <td>16.556590</td>\n",
       "      <td>17.657000</td>\n",
       "      <td>0.0</td>\n",
       "      <td>7.348504</td>\n",
       "      <td>22.111518</td>\n",
       "      <td>12.939972</td>\n",
       "      <td>...</td>\n",
       "      <td>0.0</td>\n",
       "      <td>12.291707</td>\n",
       "      <td>0.000000</td>\n",
       "      <td>13.008950</td>\n",
       "      <td>0.000000</td>\n",
       "      <td>18.339305</td>\n",
       "      <td>12.088241</td>\n",
       "      <td>0.0</td>\n",
       "      <td>16.241584</td>\n",
       "      <td>0.000000</td>\n",
       "    </tr>\n",
       "    <tr>\n",
       "      <th>TCGA-B8-4620-01A</th>\n",
       "      <td>11.799765</td>\n",
       "      <td>8.952867</td>\n",
       "      <td>15.118272</td>\n",
       "      <td>0.0</td>\n",
       "      <td>15.915494</td>\n",
       "      <td>17.612348</td>\n",
       "      <td>0.0</td>\n",
       "      <td>7.992850</td>\n",
       "      <td>22.353481</td>\n",
       "      <td>11.417941</td>\n",
       "      <td>...</td>\n",
       "      <td>0.0</td>\n",
       "      <td>9.392681</td>\n",
       "      <td>0.000000</td>\n",
       "      <td>12.223668</td>\n",
       "      <td>9.952820</td>\n",
       "      <td>17.441902</td>\n",
       "      <td>13.593133</td>\n",
       "      <td>0.0</td>\n",
       "      <td>14.917071</td>\n",
       "      <td>0.000000</td>\n",
       "    </tr>\n",
       "  </tbody>\n",
       "</table>\n",
       "<p>5 rows × 60483 columns</p>\n",
       "</div>"
      ],
      "text/plain": [
       "                  ENSG00000242268  ENSG00000270112  ENSG00000167578  \\\n",
       "TCGA-B2-4101-01A        13.245332         7.317387        15.878832   \n",
       "TCGA-BP-4342-01A        10.902992         8.379099        15.803923   \n",
       "TCGA-B0-4691-01A        11.702961        10.924253        16.846045   \n",
       "TCGA-BP-4167-01A         9.738462         6.899500        17.095299   \n",
       "TCGA-B8-4620-01A        11.799765         8.952867        15.118272   \n",
       "\n",
       "                  ENSG00000273842  ENSG00000078237  ENSG00000146083  \\\n",
       "TCGA-B2-4101-01A              0.0        16.157763        18.516787   \n",
       "TCGA-BP-4342-01A              0.0        15.676362        17.900625   \n",
       "TCGA-B0-4691-01A              0.0        16.075166        18.466511   \n",
       "TCGA-BP-4167-01A              0.0        16.556590        17.657000   \n",
       "TCGA-B8-4620-01A              0.0        15.915494        17.612348   \n",
       "\n",
       "                  ENSG00000225275  ENSG00000158486  ENSG00000198242  \\\n",
       "TCGA-B2-4101-01A              0.0         9.806579        21.768571   \n",
       "TCGA-BP-4342-01A              0.0         9.314713        21.607357   \n",
       "TCGA-B0-4691-01A              0.0        11.269440        22.259454   \n",
       "TCGA-BP-4167-01A              0.0         7.348504        22.111518   \n",
       "TCGA-B8-4620-01A              0.0         7.992850        22.353481   \n",
       "\n",
       "                  ENSG00000259883  ...  ENSG00000238244  ENSG00000186115  \\\n",
       "TCGA-B2-4101-01A        13.739354  ...              0.0        13.056492   \n",
       "TCGA-BP-4342-01A        12.590915  ...              0.0        14.122849   \n",
       "TCGA-B0-4691-01A        13.509740  ...              0.0        15.722675   \n",
       "TCGA-BP-4167-01A        12.939972  ...              0.0        12.291707   \n",
       "TCGA-B8-4620-01A        11.417941  ...              0.0         9.392681   \n",
       "\n",
       "                  ENSG00000216352  ENSG00000267117  ENSG00000273233  \\\n",
       "TCGA-B2-4101-01A         0.000000        11.430246        11.480154   \n",
       "TCGA-BP-4342-01A         0.000000        13.911300        12.639430   \n",
       "TCGA-B0-4691-01A        11.455115        11.653052        11.702961   \n",
       "TCGA-BP-4167-01A         0.000000        13.008950         0.000000   \n",
       "TCGA-B8-4620-01A         0.000000        12.223668         9.952820   \n",
       "\n",
       "                  ENSG00000105063  ENSG00000231119  ENSG00000280861  \\\n",
       "TCGA-B2-4101-01A        18.060240        12.563545              0.0   \n",
       "TCGA-BP-4342-01A        18.367108        12.553177              0.0   \n",
       "TCGA-B0-4691-01A        18.438922        12.423879              0.0   \n",
       "TCGA-BP-4167-01A        18.339305        12.088241              0.0   \n",
       "TCGA-B8-4620-01A        17.441902        13.593133              0.0   \n",
       "\n",
       "                  ENSG00000123685  ENSG00000181518  \n",
       "TCGA-B2-4101-01A        14.363342         0.000000  \n",
       "TCGA-BP-4342-01A        15.112939         0.000000  \n",
       "TCGA-B0-4691-01A        15.934466        10.060295  \n",
       "TCGA-BP-4167-01A        16.241584         0.000000  \n",
       "TCGA-B8-4620-01A        14.917071         0.000000  \n",
       "\n",
       "[5 rows x 60483 columns]"
      ]
     },
     "execution_count": 255,
     "metadata": {},
     "output_type": "execute_result"
    }
   ],
   "source": [
    "df_t.head()"
   ]
  },
  {
   "cell_type": "markdown",
   "metadata": {},
   "source": [
    "## データの前処理２：サンプルのメタデータとの対応\n",
    "KIRCのデータには、患者１人に対応する複数のRNA-seqサンプル（レプリケート＝繰り返し実験などのため）があります。\n",
    "\n",
    "このような重複を除くにはいくつか方法がありますが、ここでは最初に出てきたデータを用いることとします。"
   ]
  },
  {
   "cell_type": "markdown",
   "metadata": {},
   "source": [
    "まず、サンプルIDは実は「患者ID＋別のID」となっています。これによって、同一患者由来のデータをIDで管理することができるのです。\n",
    "\n",
    "しかし、これを患者IDと対応付けるために、「別のID」を除去しようと思います。"
   ]
  },
  {
   "cell_type": "code",
   "execution_count": 256,
   "metadata": {},
   "outputs": [
    {
     "name": "stdout",
     "output_type": "stream",
     "text": [
      "TCGA-B2-4101-B32\n",
      "TCGA-B2-4101\n"
     ]
    }
   ],
   "source": [
    "x = \"TCGA-B2-4101-B32\"\n",
    "print(x)\n",
    "print(re.sub('-[^-]+$', '',x))"
   ]
  },
  {
   "cell_type": "markdown",
   "metadata": {},
   "source": [
    "Indexから「別のID」を除去します。"
   ]
  },
  {
   "cell_type": "code",
   "execution_count": 257,
   "metadata": {},
   "outputs": [],
   "source": [
    "df_t.index = [re.sub('-[^-]+$', '',x) for x in df_t.index]"
   ]
  },
  {
   "cell_type": "markdown",
   "metadata": {},
   "source": [
    "次に、サンプルIDが重複したものについて、一番最初にそのサンプルIDが出たサンプル（行）のみを残すようにしました、"
   ]
  },
  {
   "cell_type": "code",
   "execution_count": 258,
   "metadata": {},
   "outputs": [],
   "source": [
    "df_t_uniq = df_t.reset_index().drop_duplicates(subset='index',keep='first').set_index('index')"
   ]
  },
  {
   "cell_type": "markdown",
   "metadata": {},
   "source": [
    "530サンプルに減りました。"
   ]
  },
  {
   "cell_type": "code",
   "execution_count": 259,
   "metadata": {},
   "outputs": [
    {
     "data": {
      "text/plain": [
       "(530, 60483)"
      ]
     },
     "execution_count": 259,
     "metadata": {},
     "output_type": "execute_result"
    }
   ],
   "source": [
    "df_t_uniq.shape"
   ]
  },
  {
   "cell_type": "code",
   "execution_count": 260,
   "metadata": {},
   "outputs": [
    {
     "data": {
      "text/html": [
       "<div>\n",
       "<style scoped>\n",
       "    .dataframe tbody tr th:only-of-type {\n",
       "        vertical-align: middle;\n",
       "    }\n",
       "\n",
       "    .dataframe tbody tr th {\n",
       "        vertical-align: top;\n",
       "    }\n",
       "\n",
       "    .dataframe thead th {\n",
       "        text-align: right;\n",
       "    }\n",
       "</style>\n",
       "<table border=\"1\" class=\"dataframe\">\n",
       "  <thead>\n",
       "    <tr style=\"text-align: right;\">\n",
       "      <th></th>\n",
       "      <th>ENSG00000242268</th>\n",
       "      <th>ENSG00000270112</th>\n",
       "      <th>ENSG00000167578</th>\n",
       "      <th>ENSG00000273842</th>\n",
       "      <th>ENSG00000078237</th>\n",
       "      <th>ENSG00000146083</th>\n",
       "      <th>ENSG00000225275</th>\n",
       "      <th>ENSG00000158486</th>\n",
       "      <th>ENSG00000198242</th>\n",
       "      <th>ENSG00000259883</th>\n",
       "      <th>...</th>\n",
       "      <th>ENSG00000238244</th>\n",
       "      <th>ENSG00000186115</th>\n",
       "      <th>ENSG00000216352</th>\n",
       "      <th>ENSG00000267117</th>\n",
       "      <th>ENSG00000273233</th>\n",
       "      <th>ENSG00000105063</th>\n",
       "      <th>ENSG00000231119</th>\n",
       "      <th>ENSG00000280861</th>\n",
       "      <th>ENSG00000123685</th>\n",
       "      <th>ENSG00000181518</th>\n",
       "    </tr>\n",
       "    <tr>\n",
       "      <th>index</th>\n",
       "      <th></th>\n",
       "      <th></th>\n",
       "      <th></th>\n",
       "      <th></th>\n",
       "      <th></th>\n",
       "      <th></th>\n",
       "      <th></th>\n",
       "      <th></th>\n",
       "      <th></th>\n",
       "      <th></th>\n",
       "      <th></th>\n",
       "      <th></th>\n",
       "      <th></th>\n",
       "      <th></th>\n",
       "      <th></th>\n",
       "      <th></th>\n",
       "      <th></th>\n",
       "      <th></th>\n",
       "      <th></th>\n",
       "      <th></th>\n",
       "      <th></th>\n",
       "    </tr>\n",
       "  </thead>\n",
       "  <tbody>\n",
       "    <tr>\n",
       "      <th>TCGA-B2-4101</th>\n",
       "      <td>13.245332</td>\n",
       "      <td>7.317387</td>\n",
       "      <td>15.878832</td>\n",
       "      <td>0.0</td>\n",
       "      <td>16.157763</td>\n",
       "      <td>18.516787</td>\n",
       "      <td>0.0</td>\n",
       "      <td>9.806579</td>\n",
       "      <td>21.768571</td>\n",
       "      <td>13.739354</td>\n",
       "      <td>...</td>\n",
       "      <td>0.0</td>\n",
       "      <td>13.056492</td>\n",
       "      <td>0.000000</td>\n",
       "      <td>11.430246</td>\n",
       "      <td>11.480154</td>\n",
       "      <td>18.060240</td>\n",
       "      <td>12.563545</td>\n",
       "      <td>0.0</td>\n",
       "      <td>14.363342</td>\n",
       "      <td>0.000000</td>\n",
       "    </tr>\n",
       "    <tr>\n",
       "      <th>TCGA-BP-4342</th>\n",
       "      <td>10.902992</td>\n",
       "      <td>8.379099</td>\n",
       "      <td>15.803923</td>\n",
       "      <td>0.0</td>\n",
       "      <td>15.676362</td>\n",
       "      <td>17.900625</td>\n",
       "      <td>0.0</td>\n",
       "      <td>9.314713</td>\n",
       "      <td>21.607357</td>\n",
       "      <td>12.590915</td>\n",
       "      <td>...</td>\n",
       "      <td>0.0</td>\n",
       "      <td>14.122849</td>\n",
       "      <td>0.000000</td>\n",
       "      <td>13.911300</td>\n",
       "      <td>12.639430</td>\n",
       "      <td>18.367108</td>\n",
       "      <td>12.553177</td>\n",
       "      <td>0.0</td>\n",
       "      <td>15.112939</td>\n",
       "      <td>0.000000</td>\n",
       "    </tr>\n",
       "    <tr>\n",
       "      <th>TCGA-B0-4691</th>\n",
       "      <td>11.702961</td>\n",
       "      <td>10.924253</td>\n",
       "      <td>16.846045</td>\n",
       "      <td>0.0</td>\n",
       "      <td>16.075166</td>\n",
       "      <td>18.466511</td>\n",
       "      <td>0.0</td>\n",
       "      <td>11.269440</td>\n",
       "      <td>22.259454</td>\n",
       "      <td>13.509740</td>\n",
       "      <td>...</td>\n",
       "      <td>0.0</td>\n",
       "      <td>15.722675</td>\n",
       "      <td>11.455115</td>\n",
       "      <td>11.653052</td>\n",
       "      <td>11.702961</td>\n",
       "      <td>18.438922</td>\n",
       "      <td>12.423879</td>\n",
       "      <td>0.0</td>\n",
       "      <td>15.934466</td>\n",
       "      <td>10.060295</td>\n",
       "    </tr>\n",
       "    <tr>\n",
       "      <th>TCGA-BP-4167</th>\n",
       "      <td>9.738462</td>\n",
       "      <td>6.899500</td>\n",
       "      <td>17.095299</td>\n",
       "      <td>0.0</td>\n",
       "      <td>16.556590</td>\n",
       "      <td>17.657000</td>\n",
       "      <td>0.0</td>\n",
       "      <td>7.348504</td>\n",
       "      <td>22.111518</td>\n",
       "      <td>12.939972</td>\n",
       "      <td>...</td>\n",
       "      <td>0.0</td>\n",
       "      <td>12.291707</td>\n",
       "      <td>0.000000</td>\n",
       "      <td>13.008950</td>\n",
       "      <td>0.000000</td>\n",
       "      <td>18.339305</td>\n",
       "      <td>12.088241</td>\n",
       "      <td>0.0</td>\n",
       "      <td>16.241584</td>\n",
       "      <td>0.000000</td>\n",
       "    </tr>\n",
       "    <tr>\n",
       "      <th>TCGA-B8-4620</th>\n",
       "      <td>11.799765</td>\n",
       "      <td>8.952867</td>\n",
       "      <td>15.118272</td>\n",
       "      <td>0.0</td>\n",
       "      <td>15.915494</td>\n",
       "      <td>17.612348</td>\n",
       "      <td>0.0</td>\n",
       "      <td>7.992850</td>\n",
       "      <td>22.353481</td>\n",
       "      <td>11.417941</td>\n",
       "      <td>...</td>\n",
       "      <td>0.0</td>\n",
       "      <td>9.392681</td>\n",
       "      <td>0.000000</td>\n",
       "      <td>12.223668</td>\n",
       "      <td>9.952820</td>\n",
       "      <td>17.441902</td>\n",
       "      <td>13.593133</td>\n",
       "      <td>0.0</td>\n",
       "      <td>14.917071</td>\n",
       "      <td>0.000000</td>\n",
       "    </tr>\n",
       "  </tbody>\n",
       "</table>\n",
       "<p>5 rows × 60483 columns</p>\n",
       "</div>"
      ],
      "text/plain": [
       "              ENSG00000242268  ENSG00000270112  ENSG00000167578  \\\n",
       "index                                                             \n",
       "TCGA-B2-4101        13.245332         7.317387        15.878832   \n",
       "TCGA-BP-4342        10.902992         8.379099        15.803923   \n",
       "TCGA-B0-4691        11.702961        10.924253        16.846045   \n",
       "TCGA-BP-4167         9.738462         6.899500        17.095299   \n",
       "TCGA-B8-4620        11.799765         8.952867        15.118272   \n",
       "\n",
       "              ENSG00000273842  ENSG00000078237  ENSG00000146083  \\\n",
       "index                                                             \n",
       "TCGA-B2-4101              0.0        16.157763        18.516787   \n",
       "TCGA-BP-4342              0.0        15.676362        17.900625   \n",
       "TCGA-B0-4691              0.0        16.075166        18.466511   \n",
       "TCGA-BP-4167              0.0        16.556590        17.657000   \n",
       "TCGA-B8-4620              0.0        15.915494        17.612348   \n",
       "\n",
       "              ENSG00000225275  ENSG00000158486  ENSG00000198242  \\\n",
       "index                                                             \n",
       "TCGA-B2-4101              0.0         9.806579        21.768571   \n",
       "TCGA-BP-4342              0.0         9.314713        21.607357   \n",
       "TCGA-B0-4691              0.0        11.269440        22.259454   \n",
       "TCGA-BP-4167              0.0         7.348504        22.111518   \n",
       "TCGA-B8-4620              0.0         7.992850        22.353481   \n",
       "\n",
       "              ENSG00000259883  ...  ENSG00000238244  ENSG00000186115  \\\n",
       "index                          ...                                     \n",
       "TCGA-B2-4101        13.739354  ...              0.0        13.056492   \n",
       "TCGA-BP-4342        12.590915  ...              0.0        14.122849   \n",
       "TCGA-B0-4691        13.509740  ...              0.0        15.722675   \n",
       "TCGA-BP-4167        12.939972  ...              0.0        12.291707   \n",
       "TCGA-B8-4620        11.417941  ...              0.0         9.392681   \n",
       "\n",
       "              ENSG00000216352  ENSG00000267117  ENSG00000273233  \\\n",
       "index                                                             \n",
       "TCGA-B2-4101         0.000000        11.430246        11.480154   \n",
       "TCGA-BP-4342         0.000000        13.911300        12.639430   \n",
       "TCGA-B0-4691        11.455115        11.653052        11.702961   \n",
       "TCGA-BP-4167         0.000000        13.008950         0.000000   \n",
       "TCGA-B8-4620         0.000000        12.223668         9.952820   \n",
       "\n",
       "              ENSG00000105063  ENSG00000231119  ENSG00000280861  \\\n",
       "index                                                             \n",
       "TCGA-B2-4101        18.060240        12.563545              0.0   \n",
       "TCGA-BP-4342        18.367108        12.553177              0.0   \n",
       "TCGA-B0-4691        18.438922        12.423879              0.0   \n",
       "TCGA-BP-4167        18.339305        12.088241              0.0   \n",
       "TCGA-B8-4620        17.441902        13.593133              0.0   \n",
       "\n",
       "              ENSG00000123685  ENSG00000181518  \n",
       "index                                           \n",
       "TCGA-B2-4101        14.363342         0.000000  \n",
       "TCGA-BP-4342        15.112939         0.000000  \n",
       "TCGA-B0-4691        15.934466        10.060295  \n",
       "TCGA-BP-4167        16.241584         0.000000  \n",
       "TCGA-B8-4620        14.917071         0.000000  \n",
       "\n",
       "[5 rows x 60483 columns]"
      ]
     },
     "execution_count": 260,
     "metadata": {},
     "output_type": "execute_result"
    }
   ],
   "source": [
    "df_t_uniq.head()"
   ]
  },
  {
   "cell_type": "markdown",
   "metadata": {},
   "source": [
    "## データの読み込み（サンプルメタデータ）"
   ]
  },
  {
   "cell_type": "code",
   "execution_count": 261,
   "metadata": {},
   "outputs": [],
   "source": [
    "df_clinical = pd.read_csv(\"clinical.cases_selection.2019-09-03/clinical.tsv\", sep='\\t')"
   ]
  },
  {
   "cell_type": "code",
   "execution_count": 262,
   "metadata": {},
   "outputs": [
    {
     "data": {
      "text/plain": [
       "(537, 60)"
      ]
     },
     "execution_count": 262,
     "metadata": {},
     "output_type": "execute_result"
    }
   ],
   "source": [
    "df_clinical.shape"
   ]
  },
  {
   "cell_type": "code",
   "execution_count": 263,
   "metadata": {},
   "outputs": [
    {
     "data": {
      "text/html": [
       "<div>\n",
       "<style scoped>\n",
       "    .dataframe tbody tr th:only-of-type {\n",
       "        vertical-align: middle;\n",
       "    }\n",
       "\n",
       "    .dataframe tbody tr th {\n",
       "        vertical-align: top;\n",
       "    }\n",
       "\n",
       "    .dataframe thead th {\n",
       "        text-align: right;\n",
       "    }\n",
       "</style>\n",
       "<table border=\"1\" class=\"dataframe\">\n",
       "  <thead>\n",
       "    <tr style=\"text-align: right;\">\n",
       "      <th></th>\n",
       "      <th>case_id</th>\n",
       "      <th>submitter_id</th>\n",
       "      <th>project_id</th>\n",
       "      <th>cause_of_death</th>\n",
       "      <th>gender</th>\n",
       "      <th>year_of_birth</th>\n",
       "      <th>race</th>\n",
       "      <th>days_to_birth</th>\n",
       "      <th>vital_status</th>\n",
       "      <th>days_to_death</th>\n",
       "      <th>...</th>\n",
       "      <th>ajcc_clinical_stage</th>\n",
       "      <th>vascular_invasion_present</th>\n",
       "      <th>days_to_treatment_start</th>\n",
       "      <th>treatment_type</th>\n",
       "      <th>therapeutic_agents</th>\n",
       "      <th>treatment_intent_type</th>\n",
       "      <th>treatment_anatomic_site</th>\n",
       "      <th>treatment_outcome</th>\n",
       "      <th>days_to_treatment_end</th>\n",
       "      <th>treatment_or_therapy</th>\n",
       "    </tr>\n",
       "  </thead>\n",
       "  <tbody>\n",
       "    <tr>\n",
       "      <th>0</th>\n",
       "      <td>06197e26-3cb0-4bd0-a6e8-dd9af5047c6a</td>\n",
       "      <td>TCGA-CJ-4638</td>\n",
       "      <td>TCGA-KIRC</td>\n",
       "      <td>--</td>\n",
       "      <td>female</td>\n",
       "      <td>1958</td>\n",
       "      <td>white</td>\n",
       "      <td>-17110</td>\n",
       "      <td>Dead</td>\n",
       "      <td>431</td>\n",
       "      <td>...</td>\n",
       "      <td>--</td>\n",
       "      <td>--</td>\n",
       "      <td>--</td>\n",
       "      <td>Radiation Therapy, NOS</td>\n",
       "      <td>--</td>\n",
       "      <td>--</td>\n",
       "      <td>--</td>\n",
       "      <td>--</td>\n",
       "      <td>--</td>\n",
       "      <td>yes</td>\n",
       "    </tr>\n",
       "    <tr>\n",
       "      <th>1</th>\n",
       "      <td>53dede5a-4423-4da5-bc1e-e5e98b011e36</td>\n",
       "      <td>TCGA-CJ-4873</td>\n",
       "      <td>TCGA-KIRC</td>\n",
       "      <td>--</td>\n",
       "      <td>female</td>\n",
       "      <td>1919</td>\n",
       "      <td>white</td>\n",
       "      <td>-31096</td>\n",
       "      <td>Alive</td>\n",
       "      <td>--</td>\n",
       "      <td>...</td>\n",
       "      <td>--</td>\n",
       "      <td>--</td>\n",
       "      <td>--</td>\n",
       "      <td>Pharmaceutical Therapy, NOS</td>\n",
       "      <td>--</td>\n",
       "      <td>--</td>\n",
       "      <td>--</td>\n",
       "      <td>--</td>\n",
       "      <td>--</td>\n",
       "      <td>no</td>\n",
       "    </tr>\n",
       "    <tr>\n",
       "      <th>2</th>\n",
       "      <td>6fbf13b2-614b-4c61-824b-81ae25daae31</td>\n",
       "      <td>TCGA-BP-4777</td>\n",
       "      <td>TCGA-KIRC</td>\n",
       "      <td>--</td>\n",
       "      <td>male</td>\n",
       "      <td>1959</td>\n",
       "      <td>white</td>\n",
       "      <td>-17133</td>\n",
       "      <td>Alive</td>\n",
       "      <td>--</td>\n",
       "      <td>...</td>\n",
       "      <td>--</td>\n",
       "      <td>--</td>\n",
       "      <td>--</td>\n",
       "      <td>Pharmaceutical Therapy, NOS</td>\n",
       "      <td>--</td>\n",
       "      <td>--</td>\n",
       "      <td>--</td>\n",
       "      <td>--</td>\n",
       "      <td>--</td>\n",
       "      <td>not reported</td>\n",
       "    </tr>\n",
       "    <tr>\n",
       "      <th>3</th>\n",
       "      <td>2d7e2ae4-09ba-40af-82ce-66ac7dbd4831</td>\n",
       "      <td>TCGA-BP-5169</td>\n",
       "      <td>TCGA-KIRC</td>\n",
       "      <td>--</td>\n",
       "      <td>male</td>\n",
       "      <td>1934</td>\n",
       "      <td>white</td>\n",
       "      <td>-25615</td>\n",
       "      <td>Alive</td>\n",
       "      <td>--</td>\n",
       "      <td>...</td>\n",
       "      <td>--</td>\n",
       "      <td>--</td>\n",
       "      <td>--</td>\n",
       "      <td>Pharmaceutical Therapy, NOS</td>\n",
       "      <td>--</td>\n",
       "      <td>--</td>\n",
       "      <td>--</td>\n",
       "      <td>--</td>\n",
       "      <td>--</td>\n",
       "      <td>not reported</td>\n",
       "    </tr>\n",
       "    <tr>\n",
       "      <th>4</th>\n",
       "      <td>f9e6afeb-cf13-4dd7-8a1f-571ab610df4f</td>\n",
       "      <td>TCGA-BP-4353</td>\n",
       "      <td>TCGA-KIRC</td>\n",
       "      <td>--</td>\n",
       "      <td>male</td>\n",
       "      <td>1946</td>\n",
       "      <td>white</td>\n",
       "      <td>-22415</td>\n",
       "      <td>Dead</td>\n",
       "      <td>375</td>\n",
       "      <td>...</td>\n",
       "      <td>--</td>\n",
       "      <td>--</td>\n",
       "      <td>--</td>\n",
       "      <td>Radiation Therapy, NOS</td>\n",
       "      <td>--</td>\n",
       "      <td>--</td>\n",
       "      <td>--</td>\n",
       "      <td>--</td>\n",
       "      <td>--</td>\n",
       "      <td>not reported</td>\n",
       "    </tr>\n",
       "  </tbody>\n",
       "</table>\n",
       "<p>5 rows × 60 columns</p>\n",
       "</div>"
      ],
      "text/plain": [
       "                                case_id  submitter_id project_id  \\\n",
       "0  06197e26-3cb0-4bd0-a6e8-dd9af5047c6a  TCGA-CJ-4638  TCGA-KIRC   \n",
       "1  53dede5a-4423-4da5-bc1e-e5e98b011e36  TCGA-CJ-4873  TCGA-KIRC   \n",
       "2  6fbf13b2-614b-4c61-824b-81ae25daae31  TCGA-BP-4777  TCGA-KIRC   \n",
       "3  2d7e2ae4-09ba-40af-82ce-66ac7dbd4831  TCGA-BP-5169  TCGA-KIRC   \n",
       "4  f9e6afeb-cf13-4dd7-8a1f-571ab610df4f  TCGA-BP-4353  TCGA-KIRC   \n",
       "\n",
       "  cause_of_death  gender  year_of_birth   race days_to_birth vital_status  \\\n",
       "0             --  female           1958  white        -17110         Dead   \n",
       "1             --  female           1919  white        -31096        Alive   \n",
       "2             --    male           1959  white        -17133        Alive   \n",
       "3             --    male           1934  white        -25615        Alive   \n",
       "4             --    male           1946  white        -22415         Dead   \n",
       "\n",
       "  days_to_death  ... ajcc_clinical_stage vascular_invasion_present  \\\n",
       "0           431  ...                  --                        --   \n",
       "1            --  ...                  --                        --   \n",
       "2            --  ...                  --                        --   \n",
       "3            --  ...                  --                        --   \n",
       "4           375  ...                  --                        --   \n",
       "\n",
       "  days_to_treatment_start               treatment_type therapeutic_agents  \\\n",
       "0                      --       Radiation Therapy, NOS                 --   \n",
       "1                      --  Pharmaceutical Therapy, NOS                 --   \n",
       "2                      --  Pharmaceutical Therapy, NOS                 --   \n",
       "3                      --  Pharmaceutical Therapy, NOS                 --   \n",
       "4                      --       Radiation Therapy, NOS                 --   \n",
       "\n",
       "  treatment_intent_type treatment_anatomic_site treatment_outcome  \\\n",
       "0                    --                      --                --   \n",
       "1                    --                      --                --   \n",
       "2                    --                      --                --   \n",
       "3                    --                      --                --   \n",
       "4                    --                      --                --   \n",
       "\n",
       "  days_to_treatment_end treatment_or_therapy  \n",
       "0                    --                  yes  \n",
       "1                    --                   no  \n",
       "2                    --         not reported  \n",
       "3                    --         not reported  \n",
       "4                    --         not reported  \n",
       "\n",
       "[5 rows x 60 columns]"
      ]
     },
     "execution_count": 263,
     "metadata": {},
     "output_type": "execute_result"
    }
   ],
   "source": [
    "df_clinical.head()"
   ]
  },
  {
   "cell_type": "markdown",
   "metadata": {},
   "source": [
    "癌のステージを集計します。"
   ]
  },
  {
   "cell_type": "code",
   "execution_count": 264,
   "metadata": {},
   "outputs": [
    {
     "data": {
      "text/plain": [
       "stage i         269\n",
       "stage iii       125\n",
       "stage iv         83\n",
       "stage ii         57\n",
       "not reported      3\n",
       "Name: tumor_stage, dtype: int64"
      ]
     },
     "execution_count": 264,
     "metadata": {},
     "output_type": "execute_result"
    }
   ],
   "source": [
    "df_clinical['tumor_stage'].value_counts()"
   ]
  },
  {
   "cell_type": "markdown",
   "metadata": {},
   "source": [
    "submitter_id (患者ID)と tumor_stageだけのデータフレームを作ります。"
   ]
  },
  {
   "cell_type": "code",
   "execution_count": 265,
   "metadata": {},
   "outputs": [],
   "source": [
    "df_clinical_stage = df_clinical[['submitter_id', 'tumor_stage']].set_index('submitter_id')"
   ]
  },
  {
   "cell_type": "markdown",
   "metadata": {},
   "source": [
    "## データをプロットする"
   ]
  },
  {
   "cell_type": "markdown",
   "metadata": {},
   "source": [
    "ある遺伝子に注目して、その遺伝子の発現量とがんのステージの関係を調べます。\n",
    "\n",
    "そのためにまず、患者IDをキーとして２つのデータフレームを併合します。"
   ]
  },
  {
   "cell_type": "code",
   "execution_count": 266,
   "metadata": {},
   "outputs": [
    {
     "data": {
      "text/plain": [
       "(530, 60484)"
      ]
     },
     "execution_count": 266,
     "metadata": {},
     "output_type": "execute_result"
    }
   ],
   "source": [
    "df_t_uniq_merge = pd.merge(df_clinical_stage, \n",
    "                    df_t_uniq, \n",
    "                    left_index=True, right_index=True)\n",
    "df_t_uniq_merge.shape"
   ]
  },
  {
   "cell_type": "markdown",
   "metadata": {},
   "source": [
    "tumor_stageが 'not reported' である行を除きます。"
   ]
  },
  {
   "cell_type": "code",
   "execution_count": 267,
   "metadata": {},
   "outputs": [
    {
     "data": {
      "text/plain": [
       "(527, 60484)"
      ]
     },
     "execution_count": 267,
     "metadata": {},
     "output_type": "execute_result"
    }
   ],
   "source": [
    "df_t_uniq_merge = df_t_uniq_merge[df_t_uniq_merge.tumor_stage != 'not reported']\n",
    "df_t_uniq_merge.shape"
   ]
  },
  {
   "cell_type": "code",
   "execution_count": 268,
   "metadata": {},
   "outputs": [
    {
     "data": {
      "text/html": [
       "<div>\n",
       "<style scoped>\n",
       "    .dataframe tbody tr th:only-of-type {\n",
       "        vertical-align: middle;\n",
       "    }\n",
       "\n",
       "    .dataframe tbody tr th {\n",
       "        vertical-align: top;\n",
       "    }\n",
       "\n",
       "    .dataframe thead th {\n",
       "        text-align: right;\n",
       "    }\n",
       "</style>\n",
       "<table border=\"1\" class=\"dataframe\">\n",
       "  <thead>\n",
       "    <tr style=\"text-align: right;\">\n",
       "      <th></th>\n",
       "      <th>tumor_stage</th>\n",
       "      <th>ENSG00000141510</th>\n",
       "    </tr>\n",
       "  </thead>\n",
       "  <tbody>\n",
       "    <tr>\n",
       "      <th>TCGA-CJ-4638</th>\n",
       "      <td>stage iv</td>\n",
       "      <td>18.516786</td>\n",
       "    </tr>\n",
       "    <tr>\n",
       "      <th>TCGA-CJ-4873</th>\n",
       "      <td>stage iii</td>\n",
       "      <td>18.549515</td>\n",
       "    </tr>\n",
       "    <tr>\n",
       "      <th>TCGA-BP-4777</th>\n",
       "      <td>stage i</td>\n",
       "      <td>17.884904</td>\n",
       "    </tr>\n",
       "    <tr>\n",
       "      <th>TCGA-BP-5169</th>\n",
       "      <td>stage i</td>\n",
       "      <td>18.020515</td>\n",
       "    </tr>\n",
       "    <tr>\n",
       "      <th>TCGA-BP-4353</th>\n",
       "      <td>stage i</td>\n",
       "      <td>17.970329</td>\n",
       "    </tr>\n",
       "  </tbody>\n",
       "</table>\n",
       "</div>"
      ],
      "text/plain": [
       "             tumor_stage  ENSG00000141510\n",
       "TCGA-CJ-4638    stage iv        18.516786\n",
       "TCGA-CJ-4873   stage iii        18.549515\n",
       "TCGA-BP-4777     stage i        17.884904\n",
       "TCGA-BP-5169     stage i        18.020515\n",
       "TCGA-BP-4353     stage i        17.970329"
      ]
     },
     "execution_count": 268,
     "metadata": {},
     "output_type": "execute_result"
    }
   ],
   "source": [
    "df_merge.head()"
   ]
  },
  {
   "cell_type": "markdown",
   "metadata": {},
   "source": [
    "matplotlibとseabornを用いて、バイオリンプロットを描きます。\n",
    "\n",
    "バイオリンプロットについてはこちらをご覧ください：\n",
    "https://ja.wikipedia.org/wiki/%E3%83%90%E3%82%A4%E3%82%AA%E3%83%AA%E3%83%B3%E5%9B%B3"
   ]
  },
  {
   "cell_type": "code",
   "execution_count": 269,
   "metadata": {},
   "outputs": [],
   "source": [
    "import matplotlib.pyplot as plt\n",
    "import seaborn as sns"
   ]
  },
  {
   "cell_type": "code",
   "execution_count": 270,
   "metadata": {},
   "outputs": [
    {
     "name": "stderr",
     "output_type": "stream",
     "text": [
      "/anaconda3/lib/python3.6/site-packages/scipy/stats/stats.py:1713: FutureWarning: Using a non-tuple sequence for multidimensional indexing is deprecated; use `arr[tuple(seq)]` instead of `arr[seq]`. In the future this will be interpreted as an array index, `arr[np.array(seq)]`, which will result either in an error or a different result.\n",
      "  return np.add.reduce(sorted[indexer] * weights, axis=axis) / sumval\n"
     ]
    },
    {
     "data": {
      "image/png": "[encoded data removed]",
      "text/plain": [
       "<Figure size 432x288 with 1 Axes>"
      ]
     },
     "metadata": {
      "needs_background": "light"
     },
     "output_type": "display_data"
    }
   ],
   "source": [
    "fig = plt.figure()\n",
    "ax = fig.add_subplot(1, 1, 1)\n",
    "sns.violinplot(x='tumor_stage', y='ENSG00000141510', data=df_t_uniq_merge, hue='tumor_stage', dodge=True,\n",
    "              jitter=True, color='black', palette='Set3', ax=ax)\n",
    "\n",
    "ax.set_xlabel('stage')\n",
    "ax.set_ylabel('log2(FPKM)')\n",
    "ax.set_ylim(0, 25)\n",
    "ax.legend()\n",
    "plt.show()"
   ]
  },
  {
   "cell_type": "markdown",
   "metadata": {},
   "source": [
    "## 違いを見つける"
   ]
  },
  {
   "cell_type": "markdown",
   "metadata": {},
   "source": [
    "pandasのデータフレーム（の発現量の部分）をnumpy array に変換します。"
   ]
  },
  {
   "cell_type": "code",
   "execution_count": 271,
   "metadata": {},
   "outputs": [],
   "source": [
    "import numpy as np"
   ]
  },
  {
   "cell_type": "code",
   "execution_count": 272,
   "metadata": {},
   "outputs": [],
   "source": [
    "X = df_t_uniq_merge.drop('tumor_stage', axis=1).to_numpy()"
   ]
  },
  {
   "cell_type": "markdown",
   "metadata": {},
   "source": [
    "ステージを目標変数とします。\n",
    "\n",
    "そのために、カテゴリカル変数を任意の数値に変換します。"
   ]
  },
  {
   "cell_type": "code",
   "execution_count": 273,
   "metadata": {},
   "outputs": [],
   "source": [
    "Y = df_t_uniq_merge['tumor_stage'].map({'stage i': 0, 'stage ii': 0, 'stage iii': 1, 'stage iv':1})"
   ]
  },
  {
   "cell_type": "markdown",
   "metadata": {},
   "source": [
    "### LASSOの実行\n",
    "\n",
    "LASSO は教師あり変数選択の手法の一つです。\n",
    "\n",
    "まず、LASSOのハイパーパラメータの値を決定するために交差検証法（クロスバリデーション）を行います。"
   ]
  },
  {
   "cell_type": "code",
   "execution_count": 274,
   "metadata": {},
   "outputs": [
    {
     "name": "stdout",
     "output_type": "stream",
     "text": [
      "0.03162277660168263\n",
      "[-0.  0.  0. ... -0.  0. -0.]\n",
      "0.3889943074003793\n"
     ]
    }
   ],
   "source": [
    "from sklearn.preprocessing import StandardScaler\n",
    "from sklearn.linear_model import LassoCV\n",
    "\n",
    "scaler = StandardScaler()\n",
    "clf = LassoCV(alphas=10 ** np.arange(-6, 1, 0.1), cv=5)\n",
    "\n",
    "scaler.fit(X)\n",
    "clf.fit(scaler.transform(X), Y)\n",
    "\n",
    "print(clf.alpha_)\n",
    "\n",
    "print(clf.coef_)\n",
    "\n",
    "print(clf.intercept_)"
   ]
  },
  {
   "cell_type": "markdown",
   "metadata": {},
   "source": [
    "次にLASSOを実行します"
   ]
  },
  {
   "cell_type": "code",
   "execution_count": 275,
   "metadata": {},
   "outputs": [
    {
     "name": "stdout",
     "output_type": "stream",
     "text": [
      "[-0.  0.  0. ... -0.  0. -0.]\n",
      "0.3889943074003793\n"
     ]
    }
   ],
   "source": [
    "from sklearn.preprocessing import StandardScaler\n",
    "from sklearn.linear_model import Lasso\n",
    "\n",
    "scaler = StandardScaler()\n",
    "clf = Lasso(alpha=clf.alpha_)\n",
    "\n",
    "scaler.fit(X)\n",
    "clf.fit(scaler.transform(X), Y)\n",
    "\n",
    "print(clf.coef_)\n",
    "\n",
    "print(clf.intercept_)"
   ]
  },
  {
   "cell_type": "markdown",
   "metadata": {},
   "source": [
    "### 係数がトップの遺伝子を調べる"
   ]
  },
  {
   "cell_type": "code",
   "execution_count": 276,
   "metadata": {},
   "outputs": [
    {
     "name": "stdout",
     "output_type": "stream",
     "text": [
      "33524\n"
     ]
    },
    {
     "data": {
      "text/plain": [
       "'ENSG00000158864'"
      ]
     },
     "execution_count": 276,
     "metadata": {},
     "output_type": "execute_result"
    }
   ],
   "source": [
    "max_index = np.argmax(clf.coef_)\n",
    "print(max_index)\n",
    "df_t_uniq_merge.columns[max_index]"
   ]
  },
  {
   "cell_type": "markdown",
   "metadata": {},
   "source": [
    "その遺伝子の発現量を可視化します。"
   ]
  },
  {
   "cell_type": "code",
   "execution_count": 277,
   "metadata": {},
   "outputs": [
    {
     "name": "stderr",
     "output_type": "stream",
     "text": [
      "/anaconda3/lib/python3.6/site-packages/scipy/stats/stats.py:1713: FutureWarning: Using a non-tuple sequence for multidimensional indexing is deprecated; use `arr[tuple(seq)]` instead of `arr[seq]`. In the future this will be interpreted as an array index, `arr[np.array(seq)]`, which will result either in an error or a different result.\n",
      "  return np.add.reduce(sorted[indexer] * weights, axis=axis) / sumval\n"
     ]
    },
    {
     "data": {
      "image/png": "[encoded data removed]",
      "text/plain": [
       "<Figure size 432x288 with 1 Axes>"
      ]
     },
     "metadata": {
      "needs_background": "light"
     },
     "output_type": "display_data"
    }
   ],
   "source": [
    "fig = plt.figure()\n",
    "ax = fig.add_subplot(1, 1, 1)\n",
    "sns.violinplot(x='tumor_stage', y=df_t_uniq_merge.columns[max_index], data=df_t_uniq_merge, \n",
    "               hue='tumor_stage', dodge=True,\n",
    "              jitter=True, color='black', palette='Set3', ax=ax)\n",
    "\n",
    "ax.set_xlabel('stage')\n",
    "ax.set_ylabel('log2(FPKM+1)')\n",
    "ax.set_ylim(0, 25)\n",
    "ax.legend()\n",
    "plt.show()"
   ]
  },
  {
   "cell_type": "markdown",
   "metadata": {},
   "source": [
    "### 係数トップ10の遺伝子発現量を可視化する"
   ]
  },
  {
   "cell_type": "code",
   "execution_count": 278,
   "metadata": {},
   "outputs": [
    {
     "data": {
      "text/plain": [
       "Index(['ENSG00000158864', 'ENSG00000206932', 'ENSG00000245112',\n",
       "       'ENSG00000281721', 'ENSG00000234112', 'ENSG00000276674',\n",
       "       'ENSG00000230454', 'ENSG00000143702', 'ENSG00000233183',\n",
       "       'ENSG00000070950'],\n",
       "      dtype='object')"
      ]
     },
     "execution_count": 278,
     "metadata": {},
     "output_type": "execute_result"
    }
   ],
   "source": [
    "df_t_uniq_merge.columns[np.argsort(-clf.coef_)[:10]]"
   ]
  },
  {
   "cell_type": "code",
   "execution_count": 279,
   "metadata": {},
   "outputs": [
    {
     "data": {
      "image/png": "[encoded data removed]",
      "text/plain": [
       "<Figure size 432x288 with 1 Axes>"
      ]
     },
     "metadata": {
      "needs_background": "light"
     },
     "output_type": "display_data"
    },
    {
     "data": {
      "image/png": "[encoded data removed]",
      "text/plain": [
       "<Figure size 432x288 with 1 Axes>"
      ]
     },
     "metadata": {
      "needs_background": "light"
     },
     "output_type": "display_data"
    },
    {
     "data": {
      "image/png": "[encoded data removed]",
      "text/plain": [
       "<Figure size 432x288 with 1 Axes>"
      ]
     },
     "metadata": {
      "needs_background": "light"
     },
     "output_type": "display_data"
    },
    {
     "data": {
      "image/png": "[encoded data removed]",
      "text/plain": [
       "<Figure size 432x288 with 1 Axes>"
      ]
     },
     "metadata": {
      "needs_background": "light"
     },
     "output_type": "display_data"
    },
    {
     "data": {
      "image/png": "[encoded data removed]",
      "text/plain": [
       "<Figure size 432x288 with 1 Axes>"
      ]
     },
     "metadata": {
      "needs_background": "light"
     },
     "output_type": "display_data"
    },
    {
     "data": {
      "image/png": "[encoded data removed]",
      "text/plain": [
       "<Figure size 432x288 with 1 Axes>"
      ]
     },
     "metadata": {
      "needs_background": "light"
     },
     "output_type": "display_data"
    },
    {
     "data": {
      "image/png": "[encoded data removed]",
      "text/plain": [
       "<Figure size 432x288 with 1 Axes>"
      ]
     },
     "metadata": {
      "needs_background": "light"
     },
     "output_type": "display_data"
    },
    {
     "data": {
      "image/png": "[encoded data removed]",
      "text/plain": [
       "<Figure size 432x288 with 1 Axes>"
      ]
     },
     "metadata": {
      "needs_background": "light"
     },
     "output_type": "display_data"
    },
    {
     "data": {
      "image/png": "[encoded data removed]",
      "text/plain": [
       "<Figure size 432x288 with 1 Axes>"
      ]
     },
     "metadata": {
      "needs_background": "light"
     },
     "output_type": "display_data"
    },
    {
     "data": {
      "image/png": "[encoded data removed]",
      "text/plain": [
       "<Figure size 432x288 with 1 Axes>"
      ]
     },
     "metadata": {
      "needs_background": "light"
     },
     "output_type": "display_data"
    }
   ],
   "source": [
    "for i in np.argsort(-clf.coef_)[:10]:\n",
    "    fig = plt.figure()\n",
    "    ax = fig.add_subplot(1, 1, 1)\n",
    "    sns.violinplot(x='tumor_stage', y=df_t_uniq_merge.columns[i], data=df_t_uniq_merge, \n",
    "                   hue='tumor_stage', dodge=True,\n",
    "                  jitter=True, color='black', palette='Set3', ax=ax)\n",
    "\n",
    "    ax.set_xlabel('stage')\n",
    "    ax.set_ylabel('log2(FPKM+1)')\n",
    "    ax.set_ylim(0, 25)\n",
    "    ax.legend()\n",
    "    plt.show()"
   ]
  },
  {
   "cell_type": "markdown",
   "metadata": {},
   "source": [
    "遺伝子ごと、stageごとの発現量の統計量を表示します。"
   ]
  },
  {
   "cell_type": "code",
   "execution_count": 280,
   "metadata": {},
   "outputs": [
    {
     "data": {
      "text/plain": [
       "                        tumor_stage\n",
       "ENSG00000083896  count  stage i        265.000000\n",
       "                        stage ii        57.000000\n",
       "                        stage iii      123.000000\n",
       "                        stage iv        82.000000\n",
       "                 mean   stage i         18.165132\n",
       "                        stage ii        18.108520\n",
       "                        stage iii       18.044765\n",
       "                        stage iv        18.012610\n",
       "                 std    stage i          0.320290\n",
       "                        stage ii         0.412927\n",
       "                        stage iii        0.332146\n",
       "                        stage iv         0.294112\n",
       "                 min    stage i         16.973983\n",
       "                        stage ii        16.795718\n",
       "                        stage iii       17.123561\n",
       "                        stage iv        17.239763\n",
       "                 25%    stage i         17.978448\n",
       "                        stage ii        17.909105\n",
       "                        stage iii       17.827288\n",
       "                        stage iv        17.823065\n",
       "                 50%    stage i         18.182720\n",
       "                        stage ii        18.167304\n",
       "                        stage iii       18.067534\n",
       "                        stage iv        17.991239\n",
       "                 75%    stage i         18.376560\n",
       "                        stage ii        18.366564\n",
       "                        stage iii       18.250055\n",
       "                        stage iv        18.246507\n",
       "                 max    stage i         19.191820\n",
       "                        stage ii        19.125538\n",
       "                        stage iii       18.978858\n",
       "                        stage iv        18.631965\n",
       "dtype: float64"
      ]
     },
     "execution_count": 280,
     "metadata": {},
     "output_type": "execute_result"
    }
   ],
   "source": [
    "df_t_uniq_merge[['tumor_stage', 'ENSG00000083896']].groupby('tumor_stage').describe().unstack(1)"
   ]
  },
  {
   "cell_type": "code",
   "execution_count": 281,
   "metadata": {},
   "outputs": [
    {
     "name": "stdout",
     "output_type": "stream",
     "text": [
      "0.2212553272422493\n"
     ]
    }
   ],
   "source": [
    "from sklearn.preprocessing import StandardScaler\n",
    "from sklearn.linear_model import LassoCV\n",
    "from sklearn.metrics import mean_squared_error\n",
    "from sklearn.model_selection import train_test_split\n",
    "\n",
    "x_train, x_test, y_train, y_test = train_test_split(X, Y, test_size=0.2, random_state=0)\n",
    "\n",
    "scaler = StandardScaler()\n",
    "clf = LassoCV(alphas=10 ** np.arange(-6, 1, 0.1), cv=5)\n",
    "\n",
    "scaler.fit(x_train)\n",
    "clf.fit(scaler.transform(x_train), y_train)\n",
    "\n",
    "y_pred = clf.predict(scaler.transform(x_test))\n",
    "mse = mean_squared_error(y_test, y_pred)\n",
    "print(mse)"
   ]
  },
  {
   "cell_type": "code",
   "execution_count": 282,
   "metadata": {},
   "outputs": [
    {
     "name": "stderr",
     "output_type": "stream",
     "text": [
      "/anaconda3/lib/python3.6/site-packages/matplotlib/figure.py:445: UserWarning: Matplotlib is currently using module://ipykernel.pylab.backend_inline, which is a non-GUI backend, so cannot show the figure.\n",
      "  % get_backend())\n"
     ]
    },
    {
     "data": {
      "image/png": "[encoded data removed]",
      "text/plain": [
       "<Figure size 432x288 with 1 Axes>"
      ]
     },
     "metadata": {
      "needs_background": "light"
     },
     "output_type": "display_data"
    }
   ],
   "source": [
    "from matplotlib import pyplot as plt\n",
    "fig = plt.figure()\n",
    "\n",
    "ax = fig.add_subplot(1, 1, 1)\n",
    "ax.scatter(y_pred, y_test)\n",
    "ax.set_xlabel('predicted')\n",
    "ax.set_ylabel('true')\n",
    "ax.set_aspect('equal')\n",
    "\n",
    "fig.show()"
   ]
  },
  {
   "cell_type": "code",
   "execution_count": null,
   "metadata": {},
   "outputs": [],
   "source": []
  }
 ],
 "metadata": {
  "kernelspec": {
   "display_name": "Python 3",
   "language": "python",
   "name": "python3"
  },
  "language_info": {
   "codemirror_mode": {
    "name": "ipython",
    "version": 3
   },
   "file_extension": ".py",
   "mimetype": "text/x-python",
   "name": "python",
   "nbconvert_exporter": "python",
   "pygments_lexer": "ipython3",
   "version": "3.6.8"
  }
 },
 "nbformat": 4,
 "nbformat_minor": 2
}
