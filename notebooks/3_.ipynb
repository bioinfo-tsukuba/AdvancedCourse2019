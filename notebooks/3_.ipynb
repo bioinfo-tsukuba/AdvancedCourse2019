{
 "cells": [
  {
   "cell_type": "markdown",
   "metadata": {},
   "source": [
    "# 3\tシステム入門（２）\n",
    "\n",
    "ここではデータの前処理について学ぶ。\n",
    "pandasでCSVを扱う"
   ]
  },
  {
   "cell_type": "markdown",
   "metadata": {},
   "source": [
    "# pandasによるデータの前処理"
   ]
  },
  {
   "cell_type": "markdown",
   "metadata": {},
   "source": [
    "### Pandasモジュールのインポート "
   ]
  },
  {
   "cell_type": "code",
   "execution_count": 1,
   "metadata": {},
   "outputs": [],
   "source": [
    "import pandas as pd"
   ]
  },
  {
   "cell_type": "markdown",
   "metadata": {},
   "source": [
    "### CSVファイルの読み込み\n",
    "\n",
    "CSVファイルとは、１つの行がコンマ（,）で区切られたファイル（コンマ区切りファイル）のことです。\n",
    "\n",
    "TSVファイルとは、１つの行がタブ（\\t）で区切られたファイル（タブ区切りファイル）のことです。\n",
    "\n",
    "- ヘッダーがある場合: `df = pd.read_csv('example.csv')`\n",
    "- ヘッダーがない場合: `df = pd.read_csv('example.csv', header=None)`\n",
    "- TSVの場合: `df = pd.read_csv('example.tsv', sep='\\t')`\n"
   ]
  },
  {
   "cell_type": "code",
   "execution_count": 2,
   "metadata": {},
   "outputs": [],
   "source": [
    "df1 = pd.read_csv('3_sample_1.csv')"
   ]
  },
  {
   "cell_type": "markdown",
   "metadata": {},
   "source": [
    "### データフレームの状態を確認する"
   ]
  },
  {
   "cell_type": "code",
   "execution_count": 5,
   "metadata": {},
   "outputs": [
    {
     "data": {
      "text/plain": [
       "(530, 28)"
      ]
     },
     "execution_count": 5,
     "metadata": {},
     "output_type": "execute_result"
    }
   ],
   "source": [
    "# 行数・列数の確認\n",
    "df1.shape"
   ]
  },
  {
   "cell_type": "code",
   "execution_count": 9,
   "metadata": {},
   "outputs": [
    {
     "data": {
      "text/plain": [
       "RangeIndex(start=0, stop=530, step=1)"
      ]
     },
     "execution_count": 9,
     "metadata": {},
     "output_type": "execute_result"
    }
   ],
   "source": [
    "# 行のIndex（添字）の範囲の確認\n",
    "df1.index"
   ]
  },
  {
   "cell_type": "code",
   "execution_count": 7,
   "metadata": {},
   "outputs": [
    {
     "data": {
      "text/plain": [
       "Index(['case_id', 'submitter_id', 'project_id', 'gender', 'year_of_birth',\n",
       "       'race', 'ethnicity', 'year_of_death', 'classification_of_tumor',\n",
       "       'last_known_disease_status', 'primary_diagnosis', 'tumor_stage',\n",
       "       'age_at_diagnosis', 'vital_status', 'morphology', 'days_to_death',\n",
       "       'days_to_last_known_disease_status', 'days_to_recurrence',\n",
       "       'tumor_grade', 'tissue_or_organ_of_origin', 'days_to_birth',\n",
       "       'progression_or_recurrence', 'prior_malignancy',\n",
       "       'site_of_resection_or_biopsy', 'days_to_last_follow_up',\n",
       "       'therapeutic_agents', 'treatment_intent_type', 'treatment_or_therapy'],\n",
       "      dtype='object')"
      ]
     },
     "execution_count": 7,
     "metadata": {},
     "output_type": "execute_result"
    }
   ],
   "source": [
    "# 列の確認\n",
    "df1.columns"
   ]
  },
  {
   "cell_type": "code",
   "execution_count": 10,
   "metadata": {},
   "outputs": [
    {
     "data": {
      "text/plain": [
       "case_id                              object\n",
       "submitter_id                         object\n",
       "project_id                           object\n",
       "gender                               object\n",
       "year_of_birth                         int64\n",
       "race                                 object\n",
       "ethnicity                            object\n",
       "year_of_death                        object\n",
       "classification_of_tumor              object\n",
       "last_known_disease_status            object\n",
       "primary_diagnosis                    object\n",
       "tumor_stage                          object\n",
       "age_at_diagnosis                     object\n",
       "vital_status                         object\n",
       "morphology                           object\n",
       "days_to_death                        object\n",
       "days_to_last_known_disease_status    object\n",
       "days_to_recurrence                   object\n",
       "tumor_grade                          object\n",
       "tissue_or_organ_of_origin            object\n",
       "days_to_birth                        object\n",
       "progression_or_recurrence            object\n",
       "prior_malignancy                     object\n",
       "site_of_resection_or_biopsy          object\n",
       "days_to_last_follow_up               object\n",
       "therapeutic_agents                   object\n",
       "treatment_intent_type                object\n",
       "treatment_or_therapy                 object\n",
       "dtype: object"
      ]
     },
     "execution_count": 10,
     "metadata": {},
     "output_type": "execute_result"
    }
   ],
   "source": [
    "# 各列のデータ型の確認\n",
    "df1.dtypes"
   ]
  },
  {
   "cell_type": "markdown",
   "metadata": {},
   "source": [
    "### データフレームのデータにアクセスする・抽出"
   ]
  },
  {
   "cell_type": "code",
   "execution_count": 14,
   "metadata": {},
   "outputs": [
    {
     "data": {
      "text/html": [
       "<div>\n",
       "<style scoped>\n",
       "    .dataframe tbody tr th:only-of-type {\n",
       "        vertical-align: middle;\n",
       "    }\n",
       "\n",
       "    .dataframe tbody tr th {\n",
       "        vertical-align: top;\n",
       "    }\n",
       "\n",
       "    .dataframe thead th {\n",
       "        text-align: right;\n",
       "    }\n",
       "</style>\n",
       "<table border=\"1\" class=\"dataframe\">\n",
       "  <thead>\n",
       "    <tr style=\"text-align: right;\">\n",
       "      <th></th>\n",
       "      <th>case_id</th>\n",
       "      <th>submitter_id</th>\n",
       "      <th>project_id</th>\n",
       "      <th>gender</th>\n",
       "      <th>year_of_birth</th>\n",
       "      <th>race</th>\n",
       "      <th>ethnicity</th>\n",
       "      <th>year_of_death</th>\n",
       "      <th>classification_of_tumor</th>\n",
       "      <th>last_known_disease_status</th>\n",
       "      <th>...</th>\n",
       "      <th>tumor_grade</th>\n",
       "      <th>tissue_or_organ_of_origin</th>\n",
       "      <th>days_to_birth</th>\n",
       "      <th>progression_or_recurrence</th>\n",
       "      <th>prior_malignancy</th>\n",
       "      <th>site_of_resection_or_biopsy</th>\n",
       "      <th>days_to_last_follow_up</th>\n",
       "      <th>therapeutic_agents</th>\n",
       "      <th>treatment_intent_type</th>\n",
       "      <th>treatment_or_therapy</th>\n",
       "    </tr>\n",
       "  </thead>\n",
       "  <tbody>\n",
       "    <tr>\n",
       "      <th>10</th>\n",
       "      <td>171044a9-9e8e-419b-af3a-4849d92c3b1e</td>\n",
       "      <td>TCGA-B0-5108</td>\n",
       "      <td>TCGA-KIRC</td>\n",
       "      <td>male</td>\n",
       "      <td>1955</td>\n",
       "      <td>white</td>\n",
       "      <td>not hispanic or latino</td>\n",
       "      <td>--</td>\n",
       "      <td>not reported</td>\n",
       "      <td>not reported</td>\n",
       "      <td>...</td>\n",
       "      <td>not reported</td>\n",
       "      <td>Kidney, NOS</td>\n",
       "      <td>-19932.0</td>\n",
       "      <td>not reported</td>\n",
       "      <td>not reported</td>\n",
       "      <td>Kidney, NOS</td>\n",
       "      <td>1782.0</td>\n",
       "      <td>--</td>\n",
       "      <td>--</td>\n",
       "      <td>--</td>\n",
       "    </tr>\n",
       "    <tr>\n",
       "      <th>11</th>\n",
       "      <td>77d8c2cf-6b27-417b-9d43-14c95e6f9b85</td>\n",
       "      <td>TCGA-B0-4841</td>\n",
       "      <td>TCGA-KIRC</td>\n",
       "      <td>male</td>\n",
       "      <td>1941</td>\n",
       "      <td>white</td>\n",
       "      <td>not hispanic or latino</td>\n",
       "      <td>2004</td>\n",
       "      <td>not reported</td>\n",
       "      <td>not reported</td>\n",
       "      <td>...</td>\n",
       "      <td>not reported</td>\n",
       "      <td>Kidney, NOS</td>\n",
       "      <td>-23097.0</td>\n",
       "      <td>not reported</td>\n",
       "      <td>not reported</td>\n",
       "      <td>Kidney, NOS</td>\n",
       "      <td>--</td>\n",
       "      <td>--</td>\n",
       "      <td>--</td>\n",
       "      <td>--</td>\n",
       "    </tr>\n",
       "    <tr>\n",
       "      <th>12</th>\n",
       "      <td>50f29fc7-c111-4101-b970-b1e1dd3388cf</td>\n",
       "      <td>TCGA-A3-3320</td>\n",
       "      <td>TCGA-KIRC</td>\n",
       "      <td>female</td>\n",
       "      <td>1953</td>\n",
       "      <td>white</td>\n",
       "      <td>not reported</td>\n",
       "      <td>--</td>\n",
       "      <td>not reported</td>\n",
       "      <td>not reported</td>\n",
       "      <td>...</td>\n",
       "      <td>not reported</td>\n",
       "      <td>Kidney, NOS</td>\n",
       "      <td>-19138.0</td>\n",
       "      <td>not reported</td>\n",
       "      <td>not reported</td>\n",
       "      <td>Kidney, NOS</td>\n",
       "      <td>1508.0</td>\n",
       "      <td>--</td>\n",
       "      <td>--</td>\n",
       "      <td>--</td>\n",
       "    </tr>\n",
       "    <tr>\n",
       "      <th>13</th>\n",
       "      <td>22b6724c-a59f-4796-8166-992253e8caf1</td>\n",
       "      <td>TCGA-A3-3319</td>\n",
       "      <td>TCGA-KIRC</td>\n",
       "      <td>male</td>\n",
       "      <td>1936</td>\n",
       "      <td>white</td>\n",
       "      <td>not reported</td>\n",
       "      <td>--</td>\n",
       "      <td>not reported</td>\n",
       "      <td>not reported</td>\n",
       "      <td>...</td>\n",
       "      <td>not reported</td>\n",
       "      <td>Kidney, NOS</td>\n",
       "      <td>-25699.0</td>\n",
       "      <td>not reported</td>\n",
       "      <td>not reported</td>\n",
       "      <td>Kidney, NOS</td>\n",
       "      <td>1130.0</td>\n",
       "      <td>--</td>\n",
       "      <td>--</td>\n",
       "      <td>--</td>\n",
       "    </tr>\n",
       "  </tbody>\n",
       "</table>\n",
       "<p>4 rows × 28 columns</p>\n",
       "</div>"
      ],
      "text/plain": [
       "                                 case_id  submitter_id project_id  gender  \\\n",
       "10  171044a9-9e8e-419b-af3a-4849d92c3b1e  TCGA-B0-5108  TCGA-KIRC    male   \n",
       "11  77d8c2cf-6b27-417b-9d43-14c95e6f9b85  TCGA-B0-4841  TCGA-KIRC    male   \n",
       "12  50f29fc7-c111-4101-b970-b1e1dd3388cf  TCGA-A3-3320  TCGA-KIRC  female   \n",
       "13  22b6724c-a59f-4796-8166-992253e8caf1  TCGA-A3-3319  TCGA-KIRC    male   \n",
       "\n",
       "    year_of_birth   race               ethnicity year_of_death  \\\n",
       "10           1955  white  not hispanic or latino            --   \n",
       "11           1941  white  not hispanic or latino          2004   \n",
       "12           1953  white            not reported            --   \n",
       "13           1936  white            not reported            --   \n",
       "\n",
       "   classification_of_tumor last_known_disease_status  ...   tumor_grade  \\\n",
       "10            not reported              not reported  ...  not reported   \n",
       "11            not reported              not reported  ...  not reported   \n",
       "12            not reported              not reported  ...  not reported   \n",
       "13            not reported              not reported  ...  not reported   \n",
       "\n",
       "   tissue_or_organ_of_origin days_to_birth progression_or_recurrence  \\\n",
       "10               Kidney, NOS      -19932.0              not reported   \n",
       "11               Kidney, NOS      -23097.0              not reported   \n",
       "12               Kidney, NOS      -19138.0              not reported   \n",
       "13               Kidney, NOS      -25699.0              not reported   \n",
       "\n",
       "   prior_malignancy site_of_resection_or_biopsy days_to_last_follow_up  \\\n",
       "10     not reported                 Kidney, NOS                 1782.0   \n",
       "11     not reported                 Kidney, NOS                     --   \n",
       "12     not reported                 Kidney, NOS                 1508.0   \n",
       "13     not reported                 Kidney, NOS                 1130.0   \n",
       "\n",
       "   therapeutic_agents treatment_intent_type treatment_or_therapy  \n",
       "10                 --                    --                   --  \n",
       "11                 --                    --                   --  \n",
       "12                 --                    --                   --  \n",
       "13                 --                    --                   --  \n",
       "\n",
       "[4 rows x 28 columns]"
      ]
     },
     "execution_count": 14,
     "metadata": {},
     "output_type": "execute_result"
    }
   ],
   "source": [
    "# 10行目から14行目のデータにアクセスする\n",
    "df1[10:14]"
   ]
  },
  {
   "cell_type": "code",
   "execution_count": 17,
   "metadata": {},
   "outputs": [
    {
     "data": {
      "text/plain": [
       "case_id                              171044a9-9e8e-419b-af3a-4849d92c3b1e\n",
       "submitter_id                                                 TCGA-B0-5108\n",
       "project_id                                                      TCGA-KIRC\n",
       "gender                                                               male\n",
       "year_of_birth                                                        1955\n",
       "race                                                                white\n",
       "ethnicity                                          not hispanic or latino\n",
       "year_of_death                                                          --\n",
       "classification_of_tumor                                      not reported\n",
       "last_known_disease_status                                    not reported\n",
       "primary_diagnosis                          Clear cell adenocarcinoma, NOS\n",
       "tumor_stage                                                     stage iii\n",
       "age_at_diagnosis                                                    19932\n",
       "vital_status                                                        alive\n",
       "morphology                                                         8310/3\n",
       "days_to_death                                                          --\n",
       "days_to_last_known_disease_status                                      --\n",
       "days_to_recurrence                                                     --\n",
       "tumor_grade                                                  not reported\n",
       "tissue_or_organ_of_origin                                     Kidney, NOS\n",
       "days_to_birth                                                    -19932.0\n",
       "progression_or_recurrence                                    not reported\n",
       "prior_malignancy                                             not reported\n",
       "site_of_resection_or_biopsy                                   Kidney, NOS\n",
       "days_to_last_follow_up                                             1782.0\n",
       "therapeutic_agents                                                     --\n",
       "treatment_intent_type                                                  --\n",
       "treatment_or_therapy                                                   --\n",
       "Name: 10, dtype: object"
      ]
     },
     "execution_count": 17,
     "metadata": {},
     "output_type": "execute_result"
    }
   ],
   "source": [
    "# 10行目のデータにアクセスする\n",
    "df1.loc[10]"
   ]
  },
  {
   "cell_type": "code",
   "execution_count": 20,
   "metadata": {},
   "outputs": [
    {
     "data": {
      "text/html": [
       "<div>\n",
       "<style scoped>\n",
       "    .dataframe tbody tr th:only-of-type {\n",
       "        vertical-align: middle;\n",
       "    }\n",
       "\n",
       "    .dataframe tbody tr th {\n",
       "        vertical-align: top;\n",
       "    }\n",
       "\n",
       "    .dataframe thead th {\n",
       "        text-align: right;\n",
       "    }\n",
       "</style>\n",
       "<table border=\"1\" class=\"dataframe\">\n",
       "  <thead>\n",
       "    <tr style=\"text-align: right;\">\n",
       "      <th></th>\n",
       "      <th>case_id</th>\n",
       "      <th>project_id</th>\n",
       "    </tr>\n",
       "  </thead>\n",
       "  <tbody>\n",
       "    <tr>\n",
       "      <th>1</th>\n",
       "      <td>4edff57f-4b0e-4770-beac-590da7d7232c</td>\n",
       "      <td>TCGA-KIRC</td>\n",
       "    </tr>\n",
       "    <tr>\n",
       "      <th>2</th>\n",
       "      <td>0df9ec46-d600-4845-9d00-2dc2732c68d1</td>\n",
       "      <td>TCGA-KIRC</td>\n",
       "    </tr>\n",
       "    <tr>\n",
       "      <th>4</th>\n",
       "      <td>1bc2ad71-fb9d-4012-bfe7-c39e215a51eb</td>\n",
       "      <td>TCGA-KIRC</td>\n",
       "    </tr>\n",
       "  </tbody>\n",
       "</table>\n",
       "</div>"
      ],
      "text/plain": [
       "                                case_id project_id\n",
       "1  4edff57f-4b0e-4770-beac-590da7d7232c  TCGA-KIRC\n",
       "2  0df9ec46-d600-4845-9d00-2dc2732c68d1  TCGA-KIRC\n",
       "4  1bc2ad71-fb9d-4012-bfe7-c39e215a51eb  TCGA-KIRC"
      ]
     },
     "execution_count": 20,
     "metadata": {},
     "output_type": "execute_result"
    }
   ],
   "source": [
    "# 1・2・4行目、0・２列目のデータにアクセスする\n",
    "df1.iloc[[1,2,4],[0,2]]"
   ]
  },
  {
   "cell_type": "code",
   "execution_count": 30,
   "metadata": {},
   "outputs": [
    {
     "data": {
      "text/html": [
       "<div>\n",
       "<style scoped>\n",
       "    .dataframe tbody tr th:only-of-type {\n",
       "        vertical-align: middle;\n",
       "    }\n",
       "\n",
       "    .dataframe tbody tr th {\n",
       "        vertical-align: top;\n",
       "    }\n",
       "\n",
       "    .dataframe thead th {\n",
       "        text-align: right;\n",
       "    }\n",
       "</style>\n",
       "<table border=\"1\" class=\"dataframe\">\n",
       "  <thead>\n",
       "    <tr style=\"text-align: right;\">\n",
       "      <th></th>\n",
       "      <th>case_id</th>\n",
       "      <th>submitter_id</th>\n",
       "      <th>project_id</th>\n",
       "      <th>gender</th>\n",
       "      <th>year_of_birth</th>\n",
       "      <th>race</th>\n",
       "      <th>ethnicity</th>\n",
       "      <th>year_of_death</th>\n",
       "      <th>classification_of_tumor</th>\n",
       "      <th>last_known_disease_status</th>\n",
       "      <th>...</th>\n",
       "      <th>tumor_grade</th>\n",
       "      <th>tissue_or_organ_of_origin</th>\n",
       "      <th>days_to_birth</th>\n",
       "      <th>progression_or_recurrence</th>\n",
       "      <th>prior_malignancy</th>\n",
       "      <th>site_of_resection_or_biopsy</th>\n",
       "      <th>days_to_last_follow_up</th>\n",
       "      <th>therapeutic_agents</th>\n",
       "      <th>treatment_intent_type</th>\n",
       "      <th>treatment_or_therapy</th>\n",
       "    </tr>\n",
       "  </thead>\n",
       "  <tbody>\n",
       "    <tr>\n",
       "      <th>15</th>\n",
       "      <td>7aece0e0-e57b-40b9-8ef3-8b98624b0e91</td>\n",
       "      <td>TCGA-B8-5546</td>\n",
       "      <td>TCGA-KIRC</td>\n",
       "      <td>female</td>\n",
       "      <td>1972</td>\n",
       "      <td>black or african american</td>\n",
       "      <td>not hispanic or latino</td>\n",
       "      <td>--</td>\n",
       "      <td>not reported</td>\n",
       "      <td>not reported</td>\n",
       "      <td>...</td>\n",
       "      <td>not reported</td>\n",
       "      <td>Kidney, NOS</td>\n",
       "      <td>-14113.0</td>\n",
       "      <td>not reported</td>\n",
       "      <td>not reported</td>\n",
       "      <td>Kidney, NOS</td>\n",
       "      <td>505.0</td>\n",
       "      <td>--</td>\n",
       "      <td>--</td>\n",
       "      <td>--</td>\n",
       "    </tr>\n",
       "    <tr>\n",
       "      <th>32</th>\n",
       "      <td>e9f855b3-291b-449d-9758-caa0f99fa76d</td>\n",
       "      <td>TCGA-B0-5084</td>\n",
       "      <td>TCGA-KIRC</td>\n",
       "      <td>male</td>\n",
       "      <td>1973</td>\n",
       "      <td>white</td>\n",
       "      <td>not hispanic or latino</td>\n",
       "      <td>2006</td>\n",
       "      <td>not reported</td>\n",
       "      <td>not reported</td>\n",
       "      <td>...</td>\n",
       "      <td>not reported</td>\n",
       "      <td>Kidney, NOS</td>\n",
       "      <td>-12219.0</td>\n",
       "      <td>not reported</td>\n",
       "      <td>not reported</td>\n",
       "      <td>Kidney, NOS</td>\n",
       "      <td>--</td>\n",
       "      <td>--</td>\n",
       "      <td>--</td>\n",
       "      <td>--</td>\n",
       "    </tr>\n",
       "    <tr>\n",
       "      <th>88</th>\n",
       "      <td>0bbfeec1-fbae-4c92-ae90-60ba39303bd8</td>\n",
       "      <td>TCGA-A3-3349</td>\n",
       "      <td>TCGA-KIRC</td>\n",
       "      <td>female</td>\n",
       "      <td>1972</td>\n",
       "      <td>white</td>\n",
       "      <td>not hispanic or latino</td>\n",
       "      <td>--</td>\n",
       "      <td>not reported</td>\n",
       "      <td>not reported</td>\n",
       "      <td>...</td>\n",
       "      <td>not reported</td>\n",
       "      <td>Kidney, NOS</td>\n",
       "      <td>-12431.0</td>\n",
       "      <td>not reported</td>\n",
       "      <td>not reported</td>\n",
       "      <td>Kidney, NOS</td>\n",
       "      <td>1385.0</td>\n",
       "      <td>--</td>\n",
       "      <td>--</td>\n",
       "      <td>--</td>\n",
       "    </tr>\n",
       "    <tr>\n",
       "      <th>150</th>\n",
       "      <td>fe1f95a3-a6c2-4a39-8586-f8a70e975dd4</td>\n",
       "      <td>TCGA-MM-A563</td>\n",
       "      <td>TCGA-KIRC</td>\n",
       "      <td>male</td>\n",
       "      <td>1971</td>\n",
       "      <td>black or african american</td>\n",
       "      <td>not hispanic or latino</td>\n",
       "      <td>--</td>\n",
       "      <td>not reported</td>\n",
       "      <td>not reported</td>\n",
       "      <td>...</td>\n",
       "      <td>not reported</td>\n",
       "      <td>Kidney, NOS</td>\n",
       "      <td>-15037.0</td>\n",
       "      <td>not reported</td>\n",
       "      <td>not reported</td>\n",
       "      <td>Kidney, NOS</td>\n",
       "      <td>591.0</td>\n",
       "      <td>--</td>\n",
       "      <td>--</td>\n",
       "      <td>--</td>\n",
       "    </tr>\n",
       "    <tr>\n",
       "      <th>249</th>\n",
       "      <td>dd35edfd-ee6c-461f-b2a6-2dff8324117c</td>\n",
       "      <td>TCGA-BP-4797</td>\n",
       "      <td>TCGA-KIRC</td>\n",
       "      <td>male</td>\n",
       "      <td>1973</td>\n",
       "      <td>white</td>\n",
       "      <td>not hispanic or latino</td>\n",
       "      <td>--</td>\n",
       "      <td>not reported</td>\n",
       "      <td>not reported</td>\n",
       "      <td>...</td>\n",
       "      <td>not reported</td>\n",
       "      <td>Kidney, NOS</td>\n",
       "      <td>-12508.0</td>\n",
       "      <td>not reported</td>\n",
       "      <td>not reported</td>\n",
       "      <td>Kidney, NOS</td>\n",
       "      <td>1107.0</td>\n",
       "      <td>--</td>\n",
       "      <td>--</td>\n",
       "      <td>--</td>\n",
       "    </tr>\n",
       "    <tr>\n",
       "      <th>259</th>\n",
       "      <td>a42103aa-0f25-4939-9f9d-9ec11a5c8cca</td>\n",
       "      <td>TCGA-A3-A8OW</td>\n",
       "      <td>TCGA-KIRC</td>\n",
       "      <td>male</td>\n",
       "      <td>1974</td>\n",
       "      <td>black or african american</td>\n",
       "      <td>not hispanic or latino</td>\n",
       "      <td>--</td>\n",
       "      <td>not reported</td>\n",
       "      <td>not reported</td>\n",
       "      <td>...</td>\n",
       "      <td>not reported</td>\n",
       "      <td>Kidney, NOS</td>\n",
       "      <td>-13546.0</td>\n",
       "      <td>not reported</td>\n",
       "      <td>not reported</td>\n",
       "      <td>Kidney, NOS</td>\n",
       "      <td>323.0</td>\n",
       "      <td>--</td>\n",
       "      <td>--</td>\n",
       "      <td>--</td>\n",
       "    </tr>\n",
       "    <tr>\n",
       "      <th>276</th>\n",
       "      <td>8593764c-e468-4229-94de-6ba614b4f068</td>\n",
       "      <td>TCGA-AS-3778</td>\n",
       "      <td>TCGA-KIRC</td>\n",
       "      <td>male</td>\n",
       "      <td>1975</td>\n",
       "      <td>white</td>\n",
       "      <td>not hispanic or latino</td>\n",
       "      <td>--</td>\n",
       "      <td>not reported</td>\n",
       "      <td>not reported</td>\n",
       "      <td>...</td>\n",
       "      <td>not reported</td>\n",
       "      <td>Kidney, NOS</td>\n",
       "      <td>-12937.0</td>\n",
       "      <td>not reported</td>\n",
       "      <td>not reported</td>\n",
       "      <td>Kidney, NOS</td>\n",
       "      <td>43.0</td>\n",
       "      <td>--</td>\n",
       "      <td>--</td>\n",
       "      <td>--</td>\n",
       "    </tr>\n",
       "    <tr>\n",
       "      <th>406</th>\n",
       "      <td>ea854858-1dad-4b01-8e58-f19e6a7c41a3</td>\n",
       "      <td>TCGA-DV-5574</td>\n",
       "      <td>TCGA-KIRC</td>\n",
       "      <td>male</td>\n",
       "      <td>1971</td>\n",
       "      <td>white</td>\n",
       "      <td>not hispanic or latino</td>\n",
       "      <td>--</td>\n",
       "      <td>not reported</td>\n",
       "      <td>not reported</td>\n",
       "      <td>...</td>\n",
       "      <td>not reported</td>\n",
       "      <td>Kidney, NOS</td>\n",
       "      <td>-13517.0</td>\n",
       "      <td>not reported</td>\n",
       "      <td>not reported</td>\n",
       "      <td>Kidney, NOS</td>\n",
       "      <td>2016.0</td>\n",
       "      <td>--</td>\n",
       "      <td>--</td>\n",
       "      <td>--</td>\n",
       "    </tr>\n",
       "    <tr>\n",
       "      <th>480</th>\n",
       "      <td>ae55b2d3-62a1-419e-9f9a-5ddfac356db4</td>\n",
       "      <td>TCGA-B0-5117</td>\n",
       "      <td>TCGA-KIRC</td>\n",
       "      <td>male</td>\n",
       "      <td>1970</td>\n",
       "      <td>white</td>\n",
       "      <td>not hispanic or latino</td>\n",
       "      <td>--</td>\n",
       "      <td>not reported</td>\n",
       "      <td>not reported</td>\n",
       "      <td>...</td>\n",
       "      <td>not reported</td>\n",
       "      <td>Kidney, NOS</td>\n",
       "      <td>-14612.0</td>\n",
       "      <td>not reported</td>\n",
       "      <td>not reported</td>\n",
       "      <td>Kidney, NOS</td>\n",
       "      <td>1608.0</td>\n",
       "      <td>--</td>\n",
       "      <td>--</td>\n",
       "      <td>--</td>\n",
       "    </tr>\n",
       "    <tr>\n",
       "      <th>523</th>\n",
       "      <td>5f53ace3-14ca-412a-af6c-98d8996f8177</td>\n",
       "      <td>TCGA-CW-6097</td>\n",
       "      <td>TCGA-KIRC</td>\n",
       "      <td>male</td>\n",
       "      <td>1972</td>\n",
       "      <td>white</td>\n",
       "      <td>not reported</td>\n",
       "      <td>2005</td>\n",
       "      <td>not reported</td>\n",
       "      <td>not reported</td>\n",
       "      <td>...</td>\n",
       "      <td>not reported</td>\n",
       "      <td>Kidney, NOS</td>\n",
       "      <td>-11701.0</td>\n",
       "      <td>not reported</td>\n",
       "      <td>not reported</td>\n",
       "      <td>Kidney, NOS</td>\n",
       "      <td>--</td>\n",
       "      <td>--</td>\n",
       "      <td>--</td>\n",
       "      <td>--</td>\n",
       "    </tr>\n",
       "  </tbody>\n",
       "</table>\n",
       "<p>10 rows × 28 columns</p>\n",
       "</div>"
      ],
      "text/plain": [
       "                                  case_id  submitter_id project_id  gender  \\\n",
       "15   7aece0e0-e57b-40b9-8ef3-8b98624b0e91  TCGA-B8-5546  TCGA-KIRC  female   \n",
       "32   e9f855b3-291b-449d-9758-caa0f99fa76d  TCGA-B0-5084  TCGA-KIRC    male   \n",
       "88   0bbfeec1-fbae-4c92-ae90-60ba39303bd8  TCGA-A3-3349  TCGA-KIRC  female   \n",
       "150  fe1f95a3-a6c2-4a39-8586-f8a70e975dd4  TCGA-MM-A563  TCGA-KIRC    male   \n",
       "249  dd35edfd-ee6c-461f-b2a6-2dff8324117c  TCGA-BP-4797  TCGA-KIRC    male   \n",
       "259  a42103aa-0f25-4939-9f9d-9ec11a5c8cca  TCGA-A3-A8OW  TCGA-KIRC    male   \n",
       "276  8593764c-e468-4229-94de-6ba614b4f068  TCGA-AS-3778  TCGA-KIRC    male   \n",
       "406  ea854858-1dad-4b01-8e58-f19e6a7c41a3  TCGA-DV-5574  TCGA-KIRC    male   \n",
       "480  ae55b2d3-62a1-419e-9f9a-5ddfac356db4  TCGA-B0-5117  TCGA-KIRC    male   \n",
       "523  5f53ace3-14ca-412a-af6c-98d8996f8177  TCGA-CW-6097  TCGA-KIRC    male   \n",
       "\n",
       "     year_of_birth                       race               ethnicity  \\\n",
       "15            1972  black or african american  not hispanic or latino   \n",
       "32            1973                      white  not hispanic or latino   \n",
       "88            1972                      white  not hispanic or latino   \n",
       "150           1971  black or african american  not hispanic or latino   \n",
       "249           1973                      white  not hispanic or latino   \n",
       "259           1974  black or african american  not hispanic or latino   \n",
       "276           1975                      white  not hispanic or latino   \n",
       "406           1971                      white  not hispanic or latino   \n",
       "480           1970                      white  not hispanic or latino   \n",
       "523           1972                      white            not reported   \n",
       "\n",
       "    year_of_death classification_of_tumor last_known_disease_status  ...  \\\n",
       "15             --            not reported              not reported  ...   \n",
       "32           2006            not reported              not reported  ...   \n",
       "88             --            not reported              not reported  ...   \n",
       "150            --            not reported              not reported  ...   \n",
       "249            --            not reported              not reported  ...   \n",
       "259            --            not reported              not reported  ...   \n",
       "276            --            not reported              not reported  ...   \n",
       "406            --            not reported              not reported  ...   \n",
       "480            --            not reported              not reported  ...   \n",
       "523          2005            not reported              not reported  ...   \n",
       "\n",
       "      tumor_grade tissue_or_organ_of_origin days_to_birth  \\\n",
       "15   not reported               Kidney, NOS      -14113.0   \n",
       "32   not reported               Kidney, NOS      -12219.0   \n",
       "88   not reported               Kidney, NOS      -12431.0   \n",
       "150  not reported               Kidney, NOS      -15037.0   \n",
       "249  not reported               Kidney, NOS      -12508.0   \n",
       "259  not reported               Kidney, NOS      -13546.0   \n",
       "276  not reported               Kidney, NOS      -12937.0   \n",
       "406  not reported               Kidney, NOS      -13517.0   \n",
       "480  not reported               Kidney, NOS      -14612.0   \n",
       "523  not reported               Kidney, NOS      -11701.0   \n",
       "\n",
       "    progression_or_recurrence prior_malignancy site_of_resection_or_biopsy  \\\n",
       "15               not reported     not reported                 Kidney, NOS   \n",
       "32               not reported     not reported                 Kidney, NOS   \n",
       "88               not reported     not reported                 Kidney, NOS   \n",
       "150              not reported     not reported                 Kidney, NOS   \n",
       "249              not reported     not reported                 Kidney, NOS   \n",
       "259              not reported     not reported                 Kidney, NOS   \n",
       "276              not reported     not reported                 Kidney, NOS   \n",
       "406              not reported     not reported                 Kidney, NOS   \n",
       "480              not reported     not reported                 Kidney, NOS   \n",
       "523              not reported     not reported                 Kidney, NOS   \n",
       "\n",
       "    days_to_last_follow_up therapeutic_agents treatment_intent_type  \\\n",
       "15                   505.0                 --                    --   \n",
       "32                      --                 --                    --   \n",
       "88                  1385.0                 --                    --   \n",
       "150                  591.0                 --                    --   \n",
       "249                 1107.0                 --                    --   \n",
       "259                  323.0                 --                    --   \n",
       "276                   43.0                 --                    --   \n",
       "406                 2016.0                 --                    --   \n",
       "480                 1608.0                 --                    --   \n",
       "523                     --                 --                    --   \n",
       "\n",
       "    treatment_or_therapy  \n",
       "15                    --  \n",
       "32                    --  \n",
       "88                    --  \n",
       "150                   --  \n",
       "249                   --  \n",
       "259                   --  \n",
       "276                   --  \n",
       "406                   --  \n",
       "480                   --  \n",
       "523                   --  \n",
       "\n",
       "[10 rows x 28 columns]"
      ]
     },
     "execution_count": 30,
     "metadata": {},
     "output_type": "execute_result"
    }
   ],
   "source": [
    "# 条件を指定して行を抽出する\n",
    "## 'year_of_birth' が1970以上、1980未満の行を抽出する\n",
    "df1[(df1['year_of_birth'] >= 1970) & (df1['year_of_birth'] < 1980)]"
   ]
  },
  {
   "cell_type": "code",
   "execution_count": 31,
   "metadata": {},
   "outputs": [
    {
     "data": {
      "text/html": [
       "<div>\n",
       "<style scoped>\n",
       "    .dataframe tbody tr th:only-of-type {\n",
       "        vertical-align: middle;\n",
       "    }\n",
       "\n",
       "    .dataframe tbody tr th {\n",
       "        vertical-align: top;\n",
       "    }\n",
       "\n",
       "    .dataframe thead th {\n",
       "        text-align: right;\n",
       "    }\n",
       "</style>\n",
       "<table border=\"1\" class=\"dataframe\">\n",
       "  <thead>\n",
       "    <tr style=\"text-align: right;\">\n",
       "      <th></th>\n",
       "      <th>year_of_birth</th>\n",
       "    </tr>\n",
       "  </thead>\n",
       "  <tbody>\n",
       "    <tr>\n",
       "      <th>count</th>\n",
       "      <td>530.000000</td>\n",
       "    </tr>\n",
       "    <tr>\n",
       "      <th>mean</th>\n",
       "      <td>1945.460377</td>\n",
       "    </tr>\n",
       "    <tr>\n",
       "      <th>std</th>\n",
       "      <td>12.654465</td>\n",
       "    </tr>\n",
       "    <tr>\n",
       "      <th>min</th>\n",
       "      <td>1912.000000</td>\n",
       "    </tr>\n",
       "    <tr>\n",
       "      <th>25%</th>\n",
       "      <td>1936.000000</td>\n",
       "    </tr>\n",
       "    <tr>\n",
       "      <th>50%</th>\n",
       "      <td>1946.000000</td>\n",
       "    </tr>\n",
       "    <tr>\n",
       "      <th>75%</th>\n",
       "      <td>1954.000000</td>\n",
       "    </tr>\n",
       "    <tr>\n",
       "      <th>max</th>\n",
       "      <td>1983.000000</td>\n",
       "    </tr>\n",
       "  </tbody>\n",
       "</table>\n",
       "</div>"
      ],
      "text/plain": [
       "       year_of_birth\n",
       "count     530.000000\n",
       "mean     1945.460377\n",
       "std        12.654465\n",
       "min      1912.000000\n",
       "25%      1936.000000\n",
       "50%      1946.000000\n",
       "75%      1954.000000\n",
       "max      1983.000000"
      ]
     },
     "execution_count": 31,
     "metadata": {},
     "output_type": "execute_result"
    }
   ],
   "source": [
    "# 数値の列について、要約統計量を表示する\n",
    "df1.describe()"
   ]
  },
  {
   "cell_type": "markdown",
   "metadata": {},
   "source": [
    "### 欠損値"
   ]
  },
  {
   "cell_type": "code",
   "execution_count": 32,
   "metadata": {},
   "outputs": [
    {
     "data": {
      "text/plain": [
       "case_id                              0\n",
       "submitter_id                         0\n",
       "project_id                           0\n",
       "gender                               0\n",
       "year_of_birth                        0\n",
       "race                                 0\n",
       "ethnicity                            0\n",
       "year_of_death                        0\n",
       "classification_of_tumor              0\n",
       "last_known_disease_status            0\n",
       "primary_diagnosis                    0\n",
       "tumor_stage                          0\n",
       "age_at_diagnosis                     0\n",
       "vital_status                         0\n",
       "morphology                           0\n",
       "days_to_death                        0\n",
       "days_to_last_known_disease_status    0\n",
       "days_to_recurrence                   0\n",
       "tumor_grade                          0\n",
       "tissue_or_organ_of_origin            0\n",
       "days_to_birth                        0\n",
       "progression_or_recurrence            0\n",
       "prior_malignancy                     1\n",
       "site_of_resection_or_biopsy          0\n",
       "days_to_last_follow_up               0\n",
       "therapeutic_agents                   0\n",
       "treatment_intent_type                0\n",
       "treatment_or_therapy                 0\n",
       "dtype: int64"
      ]
     },
     "execution_count": 32,
     "metadata": {},
     "output_type": "execute_result"
    }
   ],
   "source": [
    "# 欠損値の有無を確認する\n",
    "df1.isnull().sum()"
   ]
  },
  {
   "cell_type": "code",
   "execution_count": 37,
   "metadata": {},
   "outputs": [
    {
     "name": "stdout",
     "output_type": "stream",
     "text": [
      "(1, 28)\n"
     ]
    }
   ],
   "source": [
    "# １つでもNaNが含まれる行だけを抽出し、行数と列数を表示する\n",
    "print(df1[df1.isnull().any(axis=1)].shape)"
   ]
  },
  {
   "cell_type": "code",
   "execution_count": 38,
   "metadata": {},
   "outputs": [
    {
     "data": {
      "text/html": [
       "<div>\n",
       "<style scoped>\n",
       "    .dataframe tbody tr th:only-of-type {\n",
       "        vertical-align: middle;\n",
       "    }\n",
       "\n",
       "    .dataframe tbody tr th {\n",
       "        vertical-align: top;\n",
       "    }\n",
       "\n",
       "    .dataframe thead th {\n",
       "        text-align: right;\n",
       "    }\n",
       "</style>\n",
       "<table border=\"1\" class=\"dataframe\">\n",
       "  <thead>\n",
       "    <tr style=\"text-align: right;\">\n",
       "      <th></th>\n",
       "      <th>case_id</th>\n",
       "      <th>submitter_id</th>\n",
       "      <th>project_id</th>\n",
       "      <th>gender</th>\n",
       "      <th>year_of_birth</th>\n",
       "      <th>race</th>\n",
       "      <th>ethnicity</th>\n",
       "      <th>year_of_death</th>\n",
       "      <th>classification_of_tumor</th>\n",
       "      <th>last_known_disease_status</th>\n",
       "      <th>...</th>\n",
       "      <th>tumor_grade</th>\n",
       "      <th>tissue_or_organ_of_origin</th>\n",
       "      <th>days_to_birth</th>\n",
       "      <th>progression_or_recurrence</th>\n",
       "      <th>prior_malignancy</th>\n",
       "      <th>site_of_resection_or_biopsy</th>\n",
       "      <th>days_to_last_follow_up</th>\n",
       "      <th>therapeutic_agents</th>\n",
       "      <th>treatment_intent_type</th>\n",
       "      <th>treatment_or_therapy</th>\n",
       "    </tr>\n",
       "  </thead>\n",
       "  <tbody>\n",
       "    <tr>\n",
       "      <th>1</th>\n",
       "      <td>4edff57f-4b0e-4770-beac-590da7d7232c</td>\n",
       "      <td>TCGA-CJ-6033</td>\n",
       "      <td>TCGA-KIRC</td>\n",
       "      <td>female</td>\n",
       "      <td>1950</td>\n",
       "      <td>white</td>\n",
       "      <td>not hispanic or latino</td>\n",
       "      <td>2004</td>\n",
       "      <td>not reported</td>\n",
       "      <td>not reported</td>\n",
       "      <td>...</td>\n",
       "      <td>not reported</td>\n",
       "      <td>Kidney, NOS</td>\n",
       "      <td>-19919.0</td>\n",
       "      <td>not reported</td>\n",
       "      <td>NaN</td>\n",
       "      <td>Kidney, NOS</td>\n",
       "      <td>--</td>\n",
       "      <td>--</td>\n",
       "      <td>--</td>\n",
       "      <td>--</td>\n",
       "    </tr>\n",
       "  </tbody>\n",
       "</table>\n",
       "<p>1 rows × 28 columns</p>\n",
       "</div>"
      ],
      "text/plain": [
       "                                case_id  submitter_id project_id  gender  \\\n",
       "1  4edff57f-4b0e-4770-beac-590da7d7232c  TCGA-CJ-6033  TCGA-KIRC  female   \n",
       "\n",
       "   year_of_birth   race               ethnicity year_of_death  \\\n",
       "1           1950  white  not hispanic or latino          2004   \n",
       "\n",
       "  classification_of_tumor last_known_disease_status  ...   tumor_grade  \\\n",
       "1            not reported              not reported  ...  not reported   \n",
       "\n",
       "  tissue_or_organ_of_origin days_to_birth progression_or_recurrence  \\\n",
       "1               Kidney, NOS      -19919.0              not reported   \n",
       "\n",
       "  prior_malignancy site_of_resection_or_biopsy days_to_last_follow_up  \\\n",
       "1              NaN                 Kidney, NOS                     --   \n",
       "\n",
       "  therapeutic_agents treatment_intent_type treatment_or_therapy  \n",
       "1                 --                    --                   --  \n",
       "\n",
       "[1 rows x 28 columns]"
      ]
     },
     "execution_count": 38,
     "metadata": {},
     "output_type": "execute_result"
    }
   ],
   "source": [
    "# １つでもNaNが含まれる行だけを抽出し、最初の5行のみ表示する\n",
    "df1[df1.isnull().any(axis=1)].head()"
   ]
  },
  {
   "cell_type": "code",
   "execution_count": 42,
   "metadata": {},
   "outputs": [
    {
     "data": {
      "text/plain": [
       "0      not reported\n",
       "1               NaN\n",
       "2      not reported\n",
       "3      not reported\n",
       "4      not reported\n",
       "5      not reported\n",
       "6      not reported\n",
       "7      not reported\n",
       "8      not reported\n",
       "9      not reported\n",
       "10     not reported\n",
       "11     not reported\n",
       "12     not reported\n",
       "13     not reported\n",
       "14     not reported\n",
       "15     not reported\n",
       "16     not reported\n",
       "17     not reported\n",
       "18     not reported\n",
       "19     not reported\n",
       "20     not reported\n",
       "21     not reported\n",
       "22     not reported\n",
       "23     not reported\n",
       "24     not reported\n",
       "25     not reported\n",
       "26     not reported\n",
       "27     not reported\n",
       "28     not reported\n",
       "29     not reported\n",
       "           ...     \n",
       "500    not reported\n",
       "501    not reported\n",
       "502    not reported\n",
       "503    not reported\n",
       "504    not reported\n",
       "505    not reported\n",
       "506    not reported\n",
       "507    not reported\n",
       "508    not reported\n",
       "509    not reported\n",
       "510    not reported\n",
       "511    not reported\n",
       "512    not reported\n",
       "513    not reported\n",
       "514    not reported\n",
       "515    not reported\n",
       "516    not reported\n",
       "517    not reported\n",
       "518    not reported\n",
       "519    not reported\n",
       "520    not reported\n",
       "521    not reported\n",
       "522    not reported\n",
       "523    not reported\n",
       "524    not reported\n",
       "525    not reported\n",
       "526    not reported\n",
       "527    not reported\n",
       "528    not reported\n",
       "529    not reported\n",
       "Name: prior_malignancy, Length: 530, dtype: object"
      ]
     },
     "execution_count": 42,
     "metadata": {},
     "output_type": "execute_result"
    }
   ],
   "source": [
    "df1['prior_malignancy']"
   ]
  },
  {
   "cell_type": "code",
   "execution_count": 44,
   "metadata": {},
   "outputs": [],
   "source": [
    "# 欠損値を置き換える\n",
    "## 'prior_malignancy'列にあるNaNを'0.0'に置き換える\n",
    "df1.fillna(value={'prior_malignancy': 'not reported'}, inplace=True)"
   ]
  },
  {
   "cell_type": "code",
   "execution_count": 45,
   "metadata": {},
   "outputs": [
    {
     "data": {
      "text/plain": [
       "case_id                              0\n",
       "submitter_id                         0\n",
       "project_id                           0\n",
       "gender                               0\n",
       "year_of_birth                        0\n",
       "race                                 0\n",
       "ethnicity                            0\n",
       "year_of_death                        0\n",
       "classification_of_tumor              0\n",
       "last_known_disease_status            0\n",
       "primary_diagnosis                    0\n",
       "tumor_stage                          0\n",
       "age_at_diagnosis                     0\n",
       "vital_status                         0\n",
       "morphology                           0\n",
       "days_to_death                        0\n",
       "days_to_last_known_disease_status    0\n",
       "days_to_recurrence                   0\n",
       "tumor_grade                          0\n",
       "tissue_or_organ_of_origin            0\n",
       "days_to_birth                        0\n",
       "progression_or_recurrence            0\n",
       "prior_malignancy                     0\n",
       "site_of_resection_or_biopsy          0\n",
       "days_to_last_follow_up               0\n",
       "therapeutic_agents                   0\n",
       "treatment_intent_type                0\n",
       "treatment_or_therapy                 0\n",
       "dtype: int64"
      ]
     },
     "execution_count": 45,
     "metadata": {},
     "output_type": "execute_result"
    }
   ],
   "source": [
    "# 欠損値の有無を確認する（最初と結果が変わることに注意）\n",
    "df1.isnull().sum()"
   ]
  },
  {
   "cell_type": "markdown",
   "metadata": {},
   "source": [
    "### データの保存\n"
   ]
  },
  {
   "cell_type": "code",
   "execution_count": 57,
   "metadata": {},
   "outputs": [],
   "source": [
    "# CSVファイルの書き出し\n",
    "df1.to_csv('3_sample_1_processed.csv', encoding='utf-8', index=False)"
   ]
  },
  {
   "cell_type": "code",
   "execution_count": 58,
   "metadata": {},
   "outputs": [],
   "source": [
    "# TSVファイルの書き出し\n",
    "df1.to_csv('3_sample_1_processed.tsv', encoding='utf-8', sep='\\t', index=False)"
   ]
  },
  {
   "cell_type": "markdown",
   "metadata": {},
   "source": [
    "## matplotlib によるグラフのプロット\n",
    "\n",
    "> この部分は http://www.qbic.riken.jp/mbd/python_intro.html を参考にしている（古澤力さんに許可済み）\n",
    "\n",
    "Pythonでグラフを作成する方法は様々なものがあります。\n",
    "ここは広く用いられているライブラリであるmatplotlibを用いた方法を紹介します。\n",
    "\n",
    "まず、以下のようにしてライブラリをインポートすると、以降はmatplotlibの関数をpltとして参照することになります。"
   ]
  },
  {
   "cell_type": "code",
   "execution_count": 59,
   "metadata": {},
   "outputs": [],
   "source": [
    "import matplotlib.pyplot as plt"
   ]
  },
  {
   "cell_type": "code",
   "execution_count": 61,
   "metadata": {},
   "outputs": [],
   "source": [
    "# numpyをnpとして参照\n",
    "import numpy as np"
   ]
  },
  {
   "cell_type": "code",
   "execution_count": 63,
   "metadata": {},
   "outputs": [
    {
     "data": {
      "text/plain": [
       "[<matplotlib.lines.Line2D at 0x1208b4cc0>]"
      ]
     },
     "execution_count": 63,
     "metadata": {},
     "output_type": "execute_result"
    },
    {
     "data": {
      "image/png": "[encoded data removed]",
      "text/plain": [
       "<Figure size 432x288 with 1 Axes>"
      ]
     },
     "metadata": {
      "needs_background": "light"
     },
     "output_type": "display_data"
    }
   ],
   "source": [
    "#np.piはnumpyで用意されている定数（円周率）。\n",
    "# xに0から2piまでの範囲を0.01刻みで分割した長さ629のベクトルが代入される。\n",
    "x=np.arange(0,2*np.pi,0.01)\n",
    "\n",
    "y=np.sin(x)\n",
    "\n",
    "# plt.plotは入力を2つとすると、最初の入力を横軸、次の入力を縦軸とします。\n",
    "plt.plot(x,y)"
   ]
  },
  {
   "cell_type": "markdown",
   "metadata": {},
   "source": [
    "plt.plotは入力を2つとすると、最初の入力を横軸、次の入力を縦軸とします。入力を一つとすると、下のように横軸をベクトルのインデックス（何番目の要素か）、縦軸をその要素の値としてプロットします。"
   ]
  },
  {
   "cell_type": "code",
   "execution_count": 64,
   "metadata": {},
   "outputs": [
    {
     "data": {
      "text/plain": [
       "[<matplotlib.lines.Line2D at 0x120478b38>]"
      ]
     },
     "execution_count": 64,
     "metadata": {},
     "output_type": "execute_result"
    },
    {
     "data": {
      "image/png": "[encoded data removed]",
      "text/plain": [
       "<Figure size 432x288 with 1 Axes>"
      ]
     },
     "metadata": {
      "needs_background": "light"
     },
     "output_type": "display_data"
    }
   ],
   "source": [
    "x=np.arange(0,2*np.pi,0.01)\n",
    "y=np.sin(x)\n",
    "plt.plot(y)     #上のグラフと縦軸の値は同一だけど、横軸が異なっていることに注意"
   ]
  },
  {
   "cell_type": "markdown",
   "metadata": {},
   "source": [
    "複数のグラフを書くときには以下のようにします。加えて、範囲やラベルの指定方法を説明しています。コメントを見ると理解できると思います。"
   ]
  },
  {
   "cell_type": "code",
   "execution_count": 65,
   "metadata": {},
   "outputs": [
    {
     "data": {
      "image/png": "[encoded data removed]",
      "text/plain": [
       "<Figure size 432x288 with 1 Axes>"
      ]
     },
     "metadata": {
      "needs_background": "light"
     },
     "output_type": "display_data"
    }
   ],
   "source": [
    "x=np.arange(0,2*np.pi,0.01)\n",
    "y1=np.sin(x)\n",
    "y2=np.cos(x)      #ここまでデータの用意\n",
    "\n",
    "plt.plot(x,y1, label = \"Data 1\", color=\"r\")   #sin(x)の描画。\"label\"でデータのラベルを指定。\"color\"で色を指定\n",
    "plt.plot(x,y2, label = \"Data 2\", color=\"b\")  #cos(x)の描画\n",
    "#色の指定方法はいろいろとあるが、赤/青/緑/黄/シアン/マゼンダ/黒/白をr/b/g/y/c/m/k/wで指定可能\n",
    "\n",
    "plt.legend() # 凡例を表示。場所は自動的に決められる。指定したければ、ple.legend(loc='upper right')などを用いる\n",
    "\n",
    "plt.xlim(1.0,6.0)     #x軸の範囲を最小値、最大値で指定\n",
    "plt.ylim(-1.2,1.2)    #y軸の範囲を最大値、最小値で指定\n",
    "\n",
    "plt.title(\"Graph Title\")    #グラフのタイトル\n",
    "plt.xlabel(\"X-axis\")        #x軸のタイトル\n",
    "plt.ylabel(\"Y-axis\")        #y軸のタイトル\n",
    "plt.show()                    #上の指定やオプションなどを全部ひっくるめてグラフを表示"
   ]
  },
  {
   "cell_type": "markdown",
   "metadata": {},
   "source": [
    "線ではなくて点でデータをプロットしたいときには、以下のようにします。　　\n",
    "\n"
   ]
  },
  {
   "cell_type": "code",
   "execution_count": 66,
   "metadata": {},
   "outputs": [
    {
     "data": {
      "text/plain": [
       "[<matplotlib.lines.Line2D at 0x120b0ce80>]"
      ]
     },
     "execution_count": 66,
     "metadata": {},
     "output_type": "execute_result"
    },
    {
     "data": {
      "image/png": "[encoded data removed]",
      "text/plain": [
       "<Figure size 432x288 with 1 Axes>"
      ]
     },
     "metadata": {
      "needs_background": "light"
     },
     "output_type": "display_data"
    }
   ],
   "source": [
    "x=np.arange(0,2*np.pi,0.01)\n",
    "y=np.sin(x)+0.5*np.random.randn(len(x)) #sin(x)に、正規分布に従う乱数を足しています。xの要素数はlen(x)なので、その数の乱数を用意しています。\n",
    "plt.plot(x,y,\"o\",color=\"r\")  #この\"o\"がプロットの形を指定しています。そのほか、\".\"（小さい点）、\"+\"、\"x\"、\"*\"などがあります。"
   ]
  },
  {
   "cell_type": "code",
   "execution_count": null,
   "metadata": {},
   "outputs": [],
   "source": []
  }
 ],
 "metadata": {
  "kernelspec": {
   "display_name": "Python 3",
   "language": "python",
   "name": "python3"
  },
  "language_info": {
   "codemirror_mode": {
    "name": "ipython",
    "version": 3
   },
   "file_extension": ".py",
   "mimetype": "text/x-python",
   "name": "python",
   "nbconvert_exporter": "python",
   "pygments_lexer": "ipython3",
   "version": "3.6.8"
  }
 },
 "nbformat": 4,
 "nbformat_minor": 2
}
